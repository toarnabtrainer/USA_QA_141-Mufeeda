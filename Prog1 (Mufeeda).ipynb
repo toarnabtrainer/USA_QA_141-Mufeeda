{
 "cells": [
  {
   "cell_type": "code",
   "execution_count": null,
   "id": "99bffd21-222f-4768-84f5-bcdf8df35e8c",
   "metadata": {},
   "outputs": [],
   "source": [
    "# This is a comment line\n",
    "# This is another comment line\n",
    "# This is the last comment line\n",
    "print (\"Hello to All...\")"
   ]
  },
  {
   "cell_type": "markdown",
   "id": "4c0e8a28-3fca-43dc-95be-76af1c2dc196",
   "metadata": {},
   "source": [
    "<ul>\n",
    "    <li> Chapter - 1 </li>\n",
    "        <ol>\n",
    "            <li> Data Structure </li>\n",
    "            <li> Algorithm </li>\n",
    "            <li> Database </li>\n",
    "            <li> SQL </li>\n",
    "            <li> Complexity Analysis </li>\n",
    "        </ol>\n",
    "    <li> Chapter - 2 </li>\n",
    "</ul>\n",
    "<b> This is a BOLD text...</b><br>\n",
    "\n",
    "**This is a BOLD Text...**\n",
    "> This is a new section\n",
    "* Topic number - 1\n",
    "* Topic number - 2\n",
    "* Topic number - 3\n",
    "* Topic number - 4\n",
    "* Topic number - 5\n",
    "\n",
    "<h1> Heading - 1</h1>\n",
    "<h2> Heading - 2</h2>\n",
    "<h3> Heading - 3</h3>\n",
    "<h4> Heading - 4</h4>\n",
    "<h5> Heading - 5</h5>\n",
    "<h6> Heading - 6</h6>\n",
    "\n",
    "# Heading - 1\n",
    "## Heading - 2\n",
    "### Heading - 3\n",
    "#### Heading - 4\n",
    "##### Heading - 5\n",
    "###### Heading - 6"
   ]
  },
  {
   "cell_type": "code",
   "execution_count": 6,
   "id": "290922df-3a5b-4b8b-bb7d-cb95db152c5a",
   "metadata": {},
   "outputs": [
    {
     "name": "stdin",
     "output_type": "stream",
     "text": [
      "Please enter an integer:  100\n",
      "Please enter another integer:  300\n"
     ]
    },
    {
     "name": "stdout",
     "output_type": "stream",
     "text": [
      "100 <class 'str'> 300 <class 'str'>\n",
      "So the sum is 100300\n",
      "End of the program...\n"
     ]
    }
   ],
   "source": [
    "num1 = input(\"Please enter an integer: \")\n",
    "num2 = input(\"Please enter another integer: \")\n",
    "print (num1, type(num1), num2, type(num2))\n",
    "total = num1 + num2\n",
    "print (\"So the sum is\", total)\n",
    "print (\"End of the program...\")"
   ]
  },
  {
   "cell_type": "code",
   "execution_count": 7,
   "id": "5fff6dc1-7fb0-4ae9-9546-bcf1ffdc6c39",
   "metadata": {},
   "outputs": [
    {
     "name": "stdin",
     "output_type": "stream",
     "text": [
      "Please enter an integer:  100\n",
      "Please enter another integer:  300\n"
     ]
    },
    {
     "name": "stdout",
     "output_type": "stream",
     "text": [
      "100 <class 'int'> 300 <class 'int'>\n",
      "So the sum is 400\n",
      "End of the program...\n"
     ]
    }
   ],
   "source": [
    "num1 = int(input(\"Please enter an integer: \"))\n",
    "num2 = int(input(\"Please enter another integer: \"))\n",
    "print (num1, type(num1), num2, type(num2))\n",
    "total = num1 + num2\n",
    "print (\"So the sum is\", total)\n",
    "print (\"End of the program...\")"
   ]
  },
  {
   "cell_type": "code",
   "execution_count": 9,
   "id": "392a8bf7-8bef-418f-b926-a08ada26e7c2",
   "metadata": {},
   "outputs": [
    {
     "name": "stdin",
     "output_type": "stream",
     "text": [
      "Please enter an integer:  100\n",
      "Please enter another integer:  20\n"
     ]
    },
    {
     "name": "stdout",
     "output_type": "stream",
     "text": [
      "100 <class 'int'> 20 <class 'int'>\n",
      "So the sum is 120\n",
      "So the difference is 80\n",
      "So the product is 2000\n",
      "So the quotient is 5.0\n",
      "End of the program...\n"
     ]
    }
   ],
   "source": [
    "num1 = int(input(\"Please enter an integer: \"))\n",
    "num2 = int(input(\"Please enter another integer: \"))\n",
    "print (num1, type(num1), num2, type(num2))\n",
    "total = num1 + num2\n",
    "diff = num1 - num2\n",
    "prod = num1 * num2\n",
    "quot = num1 / num2\n",
    "print (\"So the sum is\", total)\n",
    "print (\"So the difference is\", diff)\n",
    "print (\"So the product is\", prod)\n",
    "print (\"So the quotient is\", quot)\n",
    "print (\"End of the program...\")"
   ]
  },
  {
   "cell_type": "code",
   "execution_count": 10,
   "id": "a59bfe79-55c5-4333-888c-317d57813283",
   "metadata": {},
   "outputs": [
    {
     "name": "stdin",
     "output_type": "stream",
     "text": [
      "Please enter an integer:  100\n",
      "Please enter another integer:  400\n"
     ]
    }
   ],
   "source": [
    "num1 = int(input(\"Please enter an integer: \"))\n",
    "num2 = int(input(\"Please enter another integer: \"))\n",
    "total = num1 + num2"
   ]
  },
  {
   "cell_type": "code",
   "execution_count": 23,
   "id": "e8377a82-2c3f-4d1b-8bd9-e7bd8891e6e0",
   "metadata": {},
   "outputs": [
    {
     "name": "stdout",
     "output_type": "stream",
     "text": [
      "So 100 + 400 = 500\n",
      "So 100 + 400 = 500\n",
      "So 100 + 400 = 500\n",
      "So 100 + 400 = 500\n",
      "So 100 + 400 = 500\n",
      "So 100 + 400 = 500\n",
      "So 100 + 400 = 500\n",
      "So 100 + 400 = 500\n",
      "So 100 + 400 = 500.000000\n",
      "So 100 + 400 =   500.00\n",
      "So 100 + 400 = 500\n"
     ]
    }
   ],
   "source": [
    "print (\"So\", num1, \"+\", num2, \"=\", total)\n",
    "print (\"So \" + str(num1) + \" + \" + str(num2) + \" = \" + str(total))\n",
    "print (\"So {} + {} = {}\".format(num1, num2, total))\n",
    "print (\"So {0} + {1} = {2}\".format(num1, num2, total))\n",
    "print (\"So {2} + {1} = {0}\".format(total, num2, num1))\n",
    "print (\"So {fnum} + {snum} = {tot}\".format(fnum = num1, snum = num2, tot = total))\n",
    "print (\"So {fnum} + {snum} = {tot}\".format(tot = total, fnum = num1, snum = num2))\n",
    "print (\"So %d + %d = %d\"%(num1, num2, total))\n",
    "print (\"So %d + %d = %f\"%(num1, num2, total))\n",
    "print (\"So %d + %d = %8.2f\"%(num1, num2, total))\n",
    "print (f\"So {num1} + {num2} = {total}\")"
   ]
  },
  {
   "cell_type": "code",
   "execution_count": 6,
   "id": "40ff13e0-95d0-4704-b210-7522f245554e",
   "metadata": {},
   "outputs": [
    {
     "name": "stdin",
     "output_type": "stream",
     "text": [
      "Please enter the first number:  200\n",
      "Please enter the second number:  100\n",
      "Please enter the third number:  300\n"
     ]
    },
    {
     "name": "stdout",
     "output_type": "stream",
     "text": [
      "So the maximum number is 300\n",
      "End of the program...\n"
     ]
    }
   ],
   "source": [
    "# conditional statements: Nested conditional statements\n",
    "# find the maximum of three input numbers\n",
    "num1 = int(input(\"Please enter the first number: \"))\n",
    "num2 = int(input(\"Please enter the second number: \"))\n",
    "num3 = int(input(\"Please enter the third number: \"))\n",
    "if (num1 > num2):\n",
    "    if (num1 > num3):\n",
    "        print (\"So the maximum number is\", num1)\n",
    "    else:\n",
    "        print (\"So the maximum number is\", num3)\n",
    "elif (num2 > num3):\n",
    "    print (\"So the maximum number is\", num2)\n",
    "else:\n",
    "    print (\"So the maximum number is\", num3)\n",
    "print (\"End of the program...\")"
   ]
  },
  {
   "cell_type": "code",
   "execution_count": null,
   "id": "b658b10a-9f4a-4e57-a5a7-15a4257d079b",
   "metadata": {},
   "outputs": [],
   "source": [
    "# test cases\n",
    "# 300 100 200\n",
    "# 300 200 100\n",
    "# 100 300 200\n",
    "# 200 300 100\n",
    "# 100 200 300\n",
    "# 200 100 300"
   ]
  },
  {
   "cell_type": "code",
   "execution_count": 7,
   "id": "834ae042-460f-48d7-a40f-f9cc65fe3532",
   "metadata": {},
   "outputs": [
    {
     "name": "stdin",
     "output_type": "stream",
     "text": [
      "Please enter the first number:  100\n",
      "Please enter the second number:  200\n",
      "Please enter the third number:  300\n"
     ]
    },
    {
     "name": "stdout",
     "output_type": "stream",
     "text": [
      "So the maximum number is 300\n",
      "End of the program...\n"
     ]
    }
   ],
   "source": [
    "# find the maximum of three user input numbers\n",
    "num1 = int(input(\"Please enter the first number: \"))\n",
    "num2 = int(input(\"Please enter the second number: \"))\n",
    "num3 = int(input(\"Please enter the third number: \"))\n",
    "if (num1 > num2 and num1 > num3):\n",
    "    print (\"So the maximum number is\", num1)\n",
    "elif (num2 > num3):\n",
    "    print (\"So the maximum number is\", num2)\n",
    "else:\n",
    "    print (\"So the maximum number is\", num3)\n",
    "print (\"End of the program...\")"
   ]
  },
  {
   "cell_type": "code",
   "execution_count": null,
   "id": "5c83d0a1-9b6f-4791-94fd-14a07e30cab6",
   "metadata": {},
   "outputs": [],
   "source": [
    "Take num1, num2, and num3 as user input\n",
    "Compare num1 and num2 to find the maximum and minimum of them and keep them in max1 and max2\n",
    "Now we shall compare between max1, max2, and num3\n",
    "\n",
    "                         max1        max2\n",
    "                         500         200\n",
    "num3 =            700          400          100\n",
    "2nd maximum =     500          400          200\n",
    "                  max1         num3         max2"
   ]
  },
  {
   "cell_type": "code",
   "execution_count": 12,
   "id": "c34b5e18-6363-4337-9590-3b07764e4747",
   "metadata": {},
   "outputs": [
    {
     "name": "stdin",
     "output_type": "stream",
     "text": [
      "Please enter the first number:  100\n",
      "Please enter the second number:  300\n",
      "Please enter the third number:  200\n"
     ]
    },
    {
     "name": "stdout",
     "output_type": "stream",
     "text": [
      "So the second maximum is 200\n",
      "End of the program...\n"
     ]
    }
   ],
   "source": [
    "# find the second maximum of three user input numbers\n",
    "num1 = int(input(\"Please enter the first number: \"))\n",
    "num2 = int(input(\"Please enter the second number: \"))\n",
    "num3 = int(input(\"Please enter the third number: \"))\n",
    "if (num1 > num2):\n",
    "    max1 = num1; max2 = num2\n",
    "else:\n",
    "    max1 = num2; max2 = num1\n",
    "if (num3 > max1):\n",
    "    print (\"So the second maximum is\", max1)\n",
    "elif (num3 > max2):\n",
    "    print (\"So the second maximum is\", num3)\n",
    "elif (max2 >= num3):\n",
    "    print (\"So the second maximum is\", max2)\n",
    "print (\"End of the program...\")"
   ]
  },
  {
   "cell_type": "code",
   "execution_count": null,
   "id": "c4b63554-48e7-4173-9354-04335d63c0fc",
   "metadata": {},
   "outputs": [],
   "source": []
  }
 ],
 "metadata": {
  "kernelspec": {
   "display_name": "Python 3",
   "language": "python",
   "name": "python3"
  },
  "language_info": {
   "codemirror_mode": {
    "name": "ipython",
    "version": 3
   },
   "file_extension": ".py",
   "mimetype": "text/x-python",
   "name": "python",
   "nbconvert_exporter": "python",
   "pygments_lexer": "ipython3",
   "version": "3.8.8"
  }
 },
 "nbformat": 4,
 "nbformat_minor": 5
}
