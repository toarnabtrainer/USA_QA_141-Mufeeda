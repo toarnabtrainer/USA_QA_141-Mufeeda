{
 "cells": [
  {
   "cell_type": "markdown",
   "id": "81c33416-df24-453e-a857-05d31b381f18",
   "metadata": {},
   "source": [
    "### Python Study material Links:\n",
    "\n",
    "* Python Practice Book: https://anandology.com/python-practice-book/index.html\n",
    "* Python for you and me: https://pymbook.readthedocs.io/en/latest/\n",
    "* Learn Python Programming (programmiz.com): https://www.programiz.com/python-programming\n",
    "* Learn Python Programming (data-flair): https://data-flair.training/blogs/python-tutorial/"
   ]
  },
  {
   "cell_type": "code",
   "execution_count": null,
   "id": "99bffd21-222f-4768-84f5-bcdf8df35e8c",
   "metadata": {},
   "outputs": [],
   "source": [
    "# This is a comment line\n",
    "# This is another comment line\n",
    "# This is the last comment line\n",
    "print (\"Hello to All...\")"
   ]
  },
  {
   "cell_type": "markdown",
   "id": "4c0e8a28-3fca-43dc-95be-76af1c2dc196",
   "metadata": {},
   "source": [
    "<ul>\n",
    "    <li> Chapter - 1 </li>\n",
    "        <ol>\n",
    "            <li> Data Structure </li>\n",
    "            <li> Algorithm </li>\n",
    "            <li> Database </li>\n",
    "            <li> SQL </li>\n",
    "            <li> Complexity Analysis </li>\n",
    "        </ol>\n",
    "    <li> Chapter - 2 </li>\n",
    "</ul>\n",
    "<b> This is a BOLD text...</b><br>\n",
    "\n",
    "**This is a BOLD Text...**\n",
    "> This is a new section\n",
    "* Topic number - 1\n",
    "* Topic number - 2\n",
    "* Topic number - 3\n",
    "* Topic number - 4\n",
    "* Topic number - 5\n",
    "\n",
    "<h1> Heading - 1</h1>\n",
    "<h2> Heading - 2</h2>\n",
    "<h3> Heading - 3</h3>\n",
    "<h4> Heading - 4</h4>\n",
    "<h5> Heading - 5</h5>\n",
    "<h6> Heading - 6</h6>\n",
    "\n",
    "# Heading - 1\n",
    "## Heading - 2\n",
    "### Heading - 3\n",
    "#### Heading - 4\n",
    "##### Heading - 5\n",
    "###### Heading - 6"
   ]
  },
  {
   "cell_type": "code",
   "execution_count": 6,
   "id": "290922df-3a5b-4b8b-bb7d-cb95db152c5a",
   "metadata": {},
   "outputs": [
    {
     "name": "stdin",
     "output_type": "stream",
     "text": [
      "Please enter an integer:  100\n",
      "Please enter another integer:  300\n"
     ]
    },
    {
     "name": "stdout",
     "output_type": "stream",
     "text": [
      "100 <class 'str'> 300 <class 'str'>\n",
      "So the sum is 100300\n",
      "End of the program...\n"
     ]
    }
   ],
   "source": [
    "num1 = input(\"Please enter an integer: \")\n",
    "num2 = input(\"Please enter another integer: \")\n",
    "print (num1, type(num1), num2, type(num2))\n",
    "total = num1 + num2\n",
    "print (\"So the sum is\", total)\n",
    "print (\"End of the program...\")"
   ]
  },
  {
   "cell_type": "code",
   "execution_count": 7,
   "id": "5fff6dc1-7fb0-4ae9-9546-bcf1ffdc6c39",
   "metadata": {},
   "outputs": [
    {
     "name": "stdin",
     "output_type": "stream",
     "text": [
      "Please enter an integer:  100\n",
      "Please enter another integer:  300\n"
     ]
    },
    {
     "name": "stdout",
     "output_type": "stream",
     "text": [
      "100 <class 'int'> 300 <class 'int'>\n",
      "So the sum is 400\n",
      "End of the program...\n"
     ]
    }
   ],
   "source": [
    "num1 = int(input(\"Please enter an integer: \"))\n",
    "num2 = int(input(\"Please enter another integer: \"))\n",
    "print (num1, type(num1), num2, type(num2))\n",
    "total = num1 + num2\n",
    "print (\"So the sum is\", total)\n",
    "print (\"End of the program...\")"
   ]
  },
  {
   "cell_type": "code",
   "execution_count": 9,
   "id": "392a8bf7-8bef-418f-b926-a08ada26e7c2",
   "metadata": {},
   "outputs": [
    {
     "name": "stdin",
     "output_type": "stream",
     "text": [
      "Please enter an integer:  100\n",
      "Please enter another integer:  20\n"
     ]
    },
    {
     "name": "stdout",
     "output_type": "stream",
     "text": [
      "100 <class 'int'> 20 <class 'int'>\n",
      "So the sum is 120\n",
      "So the difference is 80\n",
      "So the product is 2000\n",
      "So the quotient is 5.0\n",
      "End of the program...\n"
     ]
    }
   ],
   "source": [
    "num1 = int(input(\"Please enter an integer: \"))\n",
    "num2 = int(input(\"Please enter another integer: \"))\n",
    "print (num1, type(num1), num2, type(num2))\n",
    "total = num1 + num2\n",
    "diff = num1 - num2\n",
    "prod = num1 * num2\n",
    "quot = num1 / num2\n",
    "print (\"So the sum is\", total)\n",
    "print (\"So the difference is\", diff)\n",
    "print (\"So the product is\", prod)\n",
    "print (\"So the quotient is\", quot)\n",
    "print (\"End of the program...\")"
   ]
  },
  {
   "cell_type": "code",
   "execution_count": 10,
   "id": "a59bfe79-55c5-4333-888c-317d57813283",
   "metadata": {},
   "outputs": [
    {
     "name": "stdin",
     "output_type": "stream",
     "text": [
      "Please enter an integer:  100\n",
      "Please enter another integer:  400\n"
     ]
    }
   ],
   "source": [
    "num1 = int(input(\"Please enter an integer: \"))\n",
    "num2 = int(input(\"Please enter another integer: \"))\n",
    "total = num1 + num2"
   ]
  },
  {
   "cell_type": "code",
   "execution_count": 23,
   "id": "e8377a82-2c3f-4d1b-8bd9-e7bd8891e6e0",
   "metadata": {},
   "outputs": [
    {
     "name": "stdout",
     "output_type": "stream",
     "text": [
      "So 100 + 400 = 500\n",
      "So 100 + 400 = 500\n",
      "So 100 + 400 = 500\n",
      "So 100 + 400 = 500\n",
      "So 100 + 400 = 500\n",
      "So 100 + 400 = 500\n",
      "So 100 + 400 = 500\n",
      "So 100 + 400 = 500\n",
      "So 100 + 400 = 500.000000\n",
      "So 100 + 400 =   500.00\n",
      "So 100 + 400 = 500\n"
     ]
    }
   ],
   "source": [
    "print (\"So\", num1, \"+\", num2, \"=\", total)\n",
    "print (\"So \" + str(num1) + \" + \" + str(num2) + \" = \" + str(total))\n",
    "print (\"So {} + {} = {}\".format(num1, num2, total))\n",
    "print (\"So {0} + {1} = {2}\".format(num1, num2, total))\n",
    "print (\"So {2} + {1} = {0}\".format(total, num2, num1))\n",
    "print (\"So {fnum} + {snum} = {tot}\".format(fnum = num1, snum = num2, tot = total))\n",
    "print (\"So {fnum} + {snum} = {tot}\".format(tot = total, fnum = num1, snum = num2))\n",
    "print (\"So %d + %d = %d\"%(num1, num2, total))\n",
    "print (\"So %d + %d = %f\"%(num1, num2, total))\n",
    "print (\"So %d + %d = %8.2f\"%(num1, num2, total))\n",
    "print (f\"So {num1} + {num2} = {total}\")"
   ]
  },
  {
   "cell_type": "code",
   "execution_count": 6,
   "id": "40ff13e0-95d0-4704-b210-7522f245554e",
   "metadata": {},
   "outputs": [
    {
     "name": "stdin",
     "output_type": "stream",
     "text": [
      "Please enter the first number:  200\n",
      "Please enter the second number:  100\n",
      "Please enter the third number:  300\n"
     ]
    },
    {
     "name": "stdout",
     "output_type": "stream",
     "text": [
      "So the maximum number is 300\n",
      "End of the program...\n"
     ]
    }
   ],
   "source": [
    "# conditional statements: Nested conditional statements\n",
    "# find the maximum of three input numbers\n",
    "num1 = int(input(\"Please enter the first number: \"))\n",
    "num2 = int(input(\"Please enter the second number: \"))\n",
    "num3 = int(input(\"Please enter the third number: \"))\n",
    "if (num1 > num2):\n",
    "    if (num1 > num3):\n",
    "        print (\"So the maximum number is\", num1)\n",
    "    else:\n",
    "        print (\"So the maximum number is\", num3)\n",
    "elif (num2 > num3):\n",
    "    print (\"So the maximum number is\", num2)\n",
    "else:\n",
    "    print (\"So the maximum number is\", num3)\n",
    "print (\"End of the program...\")"
   ]
  },
  {
   "cell_type": "code",
   "execution_count": null,
   "id": "b658b10a-9f4a-4e57-a5a7-15a4257d079b",
   "metadata": {},
   "outputs": [],
   "source": [
    "# test cases\n",
    "# 300 100 200\n",
    "# 300 200 100\n",
    "# 100 300 200\n",
    "# 200 300 100\n",
    "# 100 200 300\n",
    "# 200 100 300"
   ]
  },
  {
   "cell_type": "code",
   "execution_count": 7,
   "id": "834ae042-460f-48d7-a40f-f9cc65fe3532",
   "metadata": {},
   "outputs": [
    {
     "name": "stdin",
     "output_type": "stream",
     "text": [
      "Please enter the first number:  100\n",
      "Please enter the second number:  200\n",
      "Please enter the third number:  300\n"
     ]
    },
    {
     "name": "stdout",
     "output_type": "stream",
     "text": [
      "So the maximum number is 300\n",
      "End of the program...\n"
     ]
    }
   ],
   "source": [
    "# find the maximum of three user input numbers\n",
    "num1 = int(input(\"Please enter the first number: \"))\n",
    "num2 = int(input(\"Please enter the second number: \"))\n",
    "num3 = int(input(\"Please enter the third number: \"))\n",
    "if (num1 > num2 and num1 > num3):\n",
    "    print (\"So the maximum number is\", num1)\n",
    "elif (num2 > num3):\n",
    "    print (\"So the maximum number is\", num2)\n",
    "else:\n",
    "    print (\"So the maximum number is\", num3)\n",
    "print (\"End of the program...\")"
   ]
  },
  {
   "cell_type": "code",
   "execution_count": null,
   "id": "5c83d0a1-9b6f-4791-94fd-14a07e30cab6",
   "metadata": {},
   "outputs": [],
   "source": [
    "Take num1, num2, and num3 as user input\n",
    "Compare num1 and num2 to find the maximum and minimum of them and keep them in max1 and max2\n",
    "Now we shall compare between max1, max2, and num3\n",
    "\n",
    "                         max1        max2\n",
    "                         500         200\n",
    "num3 =            700          400          100\n",
    "2nd maximum =     500          400          200\n",
    "                  max1         num3         max2"
   ]
  },
  {
   "cell_type": "code",
   "execution_count": 12,
   "id": "c34b5e18-6363-4337-9590-3b07764e4747",
   "metadata": {},
   "outputs": [
    {
     "name": "stdin",
     "output_type": "stream",
     "text": [
      "Please enter the first number:  100\n",
      "Please enter the second number:  300\n",
      "Please enter the third number:  200\n"
     ]
    },
    {
     "name": "stdout",
     "output_type": "stream",
     "text": [
      "So the second maximum is 200\n",
      "End of the program...\n"
     ]
    }
   ],
   "source": [
    "# find the second maximum of three user input numbers\n",
    "num1 = int(input(\"Please enter the first number: \"))\n",
    "num2 = int(input(\"Please enter the second number: \"))\n",
    "num3 = int(input(\"Please enter the third number: \"))\n",
    "if (num1 > num2):\n",
    "    max1 = num1; max2 = num2\n",
    "else:\n",
    "    max1 = num2; max2 = num1\n",
    "if (num3 > max1):\n",
    "    print (\"So the second maximum is\", max1)\n",
    "elif (num3 > max2):\n",
    "    print (\"So the second maximum is\", num3)\n",
    "elif (max2 >= num3):\n",
    "    print (\"So the second maximum is\", max2)\n",
    "print (\"End of the program...\")"
   ]
  },
  {
   "cell_type": "markdown",
   "id": "9deb62fe-9be7-4682-8612-f185ff8a20d9",
   "metadata": {},
   "source": [
    "### Operators"
   ]
  },
  {
   "cell_type": "code",
   "execution_count": 13,
   "id": "a4c9a250-136e-4fa9-8a3a-2b0b03426055",
   "metadata": {},
   "outputs": [
    {
     "name": "stdout",
     "output_type": "stream",
     "text": [
      "140\n",
      "60\n",
      "4000\n",
      "2.5\n",
      "2\n",
      "100000000\n",
      "20\n"
     ]
    }
   ],
   "source": [
    "# arithmetic operators\n",
    "print (100 + 40)\n",
    "print (100 - 40)\n",
    "print (100 * 40)\n",
    "print (100 / 40)     # float division\n",
    "print (100 // 40)    # integer division\n",
    "print (100 ** 4)     # exponentiation operation\n",
    "print (100 % 40)     # modulus operation"
   ]
  },
  {
   "cell_type": "code",
   "execution_count": 16,
   "id": "6700b8db-50d1-4051-968b-8ce146bb9574",
   "metadata": {},
   "outputs": [
    {
     "name": "stdout",
     "output_type": "stream",
     "text": [
      "False True True True\n",
      "False False False True\n",
      "True False\n"
     ]
    }
   ],
   "source": [
    "# logical operators\n",
    "print (False or False, False or True, True or False, True or True)\n",
    "print (False and False, False and True, True and False, True and True)\n",
    "print (not False, not True)"
   ]
  },
  {
   "cell_type": "code",
   "execution_count": 19,
   "id": "c1d18dde-81c0-4726-8dc9-70b087d94aea",
   "metadata": {},
   "outputs": [
    {
     "name": "stdout",
     "output_type": "stream",
     "text": [
      "True True True True True True\n"
     ]
    }
   ],
   "source": [
    "# relational (comparison) operators\n",
    "print (100 > 20, 100 >= 20, 100 < 1000, 100 <= 1000, 100 == 100, 100 != 1000)"
   ]
  },
  {
   "cell_type": "code",
   "execution_count": 22,
   "id": "6f735b59-ae44-431c-b97b-dad167f639ea",
   "metadata": {},
   "outputs": [
    {
     "name": "stdout",
     "output_type": "stream",
     "text": [
      "-100\n",
      "200\n",
      "So result = Even Number\n",
      "So result = Odd Number\n"
     ]
    }
   ],
   "source": [
    "# ternary operator\n",
    "# operators can be divided as: unary (one operand), binary (two operands) and ternary (three operands)\n",
    "print (-100)       # example of unary operator\n",
    "print (100 + 100)  # example of binary operator\n",
    "\n",
    "num = 100\n",
    "result = \"Even Number\" if (num % 2 == 0) else \"Odd Number\"  # <True Part> if <Condition> else <False Part>\n",
    "print (\"So result =\", result)\n",
    "       \n",
    "num = 101\n",
    "result = \"Even Number\" if (num % 2 == 0) else \"Odd Number\"\n",
    "print (\"So result =\", result)"
   ]
  },
  {
   "cell_type": "code",
   "execution_count": 24,
   "id": "73230ccd-1c6e-40ae-8916-7236065b8625",
   "metadata": {},
   "outputs": [
    {
     "name": "stdout",
     "output_type": "stream",
     "text": [
      "True\n",
      "True\n"
     ]
    }
   ],
   "source": [
    "# set membership operators: in, not in\n",
    "print (11 in [11, 22, 33, 44, 55])\n",
    "print (66 not in [11, 22, 33, 44, 55])"
   ]
  },
  {
   "cell_type": "markdown",
   "id": "c395078e-6618-40ff-9405-563a0b343263",
   "metadata": {},
   "source": [
    "### Loop Constructs"
   ]
  },
  {
   "cell_type": "code",
   "execution_count": 26,
   "id": "7be0f06a-764c-442b-9bd1-df86b75a7e1c",
   "metadata": {},
   "outputs": [
    {
     "name": "stdout",
     "output_type": "stream",
     "text": [
      "i = 0, i = 1, i = 2, i = 3, i = 4, i = 5, i = 6, i = 7, i = 8, i = 9, "
     ]
    }
   ],
   "source": [
    "for i in range(10):\n",
    "    print (f\"i = {i}\", end = \", \")"
   ]
  },
  {
   "cell_type": "code",
   "execution_count": 27,
   "id": "0cd94651-475f-462f-bdca-278c3db01153",
   "metadata": {},
   "outputs": [
    {
     "name": "stdout",
     "output_type": "stream",
     "text": [
      "Help on built-in function print in module builtins:\n",
      "\n",
      "print(...)\n",
      "    print(value, ..., sep=' ', end='\\n', file=sys.stdout, flush=False)\n",
      "    \n",
      "    Prints the values to a stream, or to sys.stdout by default.\n",
      "    Optional keyword arguments:\n",
      "    file:  a file-like object (stream); defaults to the current sys.stdout.\n",
      "    sep:   string inserted between values, default a space.\n",
      "    end:   string appended after the last value, default a newline.\n",
      "    flush: whether to forcibly flush the stream.\n",
      "\n"
     ]
    }
   ],
   "source": [
    "help(print)"
   ]
  },
  {
   "cell_type": "code",
   "execution_count": 31,
   "id": "523b8cf7-65cd-45de-89ef-df5d785aa3bc",
   "metadata": {},
   "outputs": [
    {
     "name": "stdout",
     "output_type": "stream",
     "text": [
      "Hello - to all\n"
     ]
    }
   ],
   "source": [
    "print (\"Hello\", \"to all\", sep = \" - \")"
   ]
  },
  {
   "cell_type": "code",
   "execution_count": 32,
   "id": "bf2f72c6-4459-4db0-bac2-cd00c8060785",
   "metadata": {},
   "outputs": [
    {
     "name": "stdout",
     "output_type": "stream",
     "text": [
      "i = -5, i = -4, i = -3, i = -2, i = -1, i = 0, i = 1, i = 2, i = 3, i = 4, "
     ]
    }
   ],
   "source": [
    "for i in range(-5, 5):\n",
    "    print (f\"i = {i}\", end = \", \")"
   ]
  },
  {
   "cell_type": "code",
   "execution_count": 36,
   "id": "76f2298b-2c5a-4905-baa8-3e3ea251c4db",
   "metadata": {},
   "outputs": [
    {
     "name": "stdout",
     "output_type": "stream",
     "text": [
      "i = 1, i = 3, i = 5, i = 7, i = 9, \n",
      "i = 1, i = 4, i = 7, "
     ]
    }
   ],
   "source": [
    "for i in range(1, 10, 2):\n",
    "    print (f\"i = {i}\", end = \", \")\n",
    "print (\"\")\n",
    "for i in range(1, 10, 3):\n",
    "    print (f\"i = {i}\", end = \", \")"
   ]
  },
  {
   "cell_type": "code",
   "execution_count": 39,
   "id": "abc63489-4d6e-462f-a08f-21ece1bd91de",
   "metadata": {},
   "outputs": [
    {
     "name": "stdout",
     "output_type": "stream",
     "text": [
      "i = 0, i = 1, i = 2, i = 3, i = 4, i = 5, i = 6, i = 7, i = 8, i = 9, \n",
      "ELSE Block is executing...\n",
      "End of the loop...\n"
     ]
    }
   ],
   "source": [
    "for i in range(10):\n",
    "    print (f\"i = {i}\", end = \", \")\n",
    "else:\n",
    "    print (\"\\nELSE Block is executing...\")\n",
    "print (\"End of the loop...\")"
   ]
  },
  {
   "cell_type": "code",
   "execution_count": 44,
   "id": "1fe448bf-00c4-411a-9f07-ac6a80454be2",
   "metadata": {},
   "outputs": [
    {
     "name": "stdout",
     "output_type": "stream",
     "text": [
      "i = 0, i = 1, i = 2, i = 3, i = 4, i = 5, \n",
      "End of the loop...\n"
     ]
    }
   ],
   "source": [
    "for i in range(10):\n",
    "    print (f\"i = {i}\", end = \", \")\n",
    "    if (i == 5): break\n",
    "else:\n",
    "    print (\"\\nELSE Block is executing...\")\n",
    "print (\"\\nEnd of the loop...\")"
   ]
  },
  {
   "cell_type": "code",
   "execution_count": 47,
   "id": "bccd1faf-655b-4937-a4ab-c716a7eaedc6",
   "metadata": {},
   "outputs": [
    {
     "name": "stdin",
     "output_type": "stream",
     "text": [
      "Please enter one integer:  101\n"
     ]
    },
    {
     "name": "stdout",
     "output_type": "stream",
     "text": [
      "101 is a PRIME Number...\n",
      "End of the program...\n"
     ]
    }
   ],
   "source": [
    "# check whether one user given number is PRIME or not\n",
    "# use of the ELSE block in FOR statement\n",
    "num = int(input(\"Please enter one integer: \"))\n",
    "for i in range(2, int(num ** 0.5)):\n",
    "    if (num % i == 0):\n",
    "        print (f\"{num} is NOT a PRIME Number...\")\n",
    "        break\n",
    "else:\n",
    "    print (f\"{num} is a PRIME Number...\")\n",
    "print (\"End of the program...\")"
   ]
  },
  {
   "cell_type": "code",
   "execution_count": 52,
   "id": "4c6df674-d382-48c8-bfc8-11e334b7ebb8",
   "metadata": {},
   "outputs": [
    {
     "name": "stdout",
     "output_type": "stream",
     "text": [
      "The current value is i = 1...\n",
      "The current value is i = 2...\n",
      "The current value is i = 3...\n",
      "The current value is i = 4...\n",
      "Executing continue statement for i = 5...\n",
      "The current value is i = 6...\n",
      "Executing continue statement for i = 7...\n",
      "The current value is i = 8...\n",
      "The current value is i = 9...\n",
      "ELSE Block is executing...\n",
      "End of the program...\n"
     ]
    }
   ],
   "source": [
    "# continue statement\n",
    "for i in range(1, 10):\n",
    "    if (i == 5 or i == 7):\n",
    "        print (f\"Executing continue statement for i = {i}...\")\n",
    "        continue\n",
    "    print (f\"The current value is i = {i}...\")\n",
    "else:\n",
    "    print (\"ELSE Block is executing...\")\n",
    "print (\"End of the program...\")"
   ]
  },
  {
   "cell_type": "code",
   "execution_count": 56,
   "id": "bd9d98c8-0012-495c-b48e-719e16e1f042",
   "metadata": {},
   "outputs": [
    {
     "name": "stdout",
     "output_type": "stream",
     "text": [
      "Iterating for num = 1...\n",
      "Iterating for num = 2...\n",
      "Iterating for num = 3...\n",
      "Iterating for num = 4...\n",
      "Iterating for num = 5...\n",
      "Iterating for num = 6...\n",
      "Iterating for num = 7...\n",
      "Iterating for num = 8...\n",
      "Iterating for num = 9...\n",
      "Iterating for num = 10...\n",
      "ELSE Block is executing...\n",
      "End of the program...\n"
     ]
    }
   ],
   "source": [
    "num = 1\n",
    "while (num <= 10):\n",
    "    # print (f\"Iterating for num = {num}...\")\n",
    "    print (\"Iterating for num = {}...\".format(num))\n",
    "    # num = num + 1    # Assignment operator: =\n",
    "    num += 1           # Special Assignment operator: += -= *= /= //= **= %=\n",
    "else:\n",
    "    print (\"ELSE Block is executing...\")\n",
    "print (\"End of the program...\")"
   ]
  },
  {
   "cell_type": "code",
   "execution_count": 61,
   "id": "8aa64fd7-91b3-4aba-944e-630901b12919",
   "metadata": {},
   "outputs": [
    {
     "name": "stdout",
     "output_type": "stream",
     "text": [
      "Visit Doctor...\n",
      "Good Morning...\n",
      "Day Number = 1 and Medicine Number = 1...\n",
      "Day Number = 1 and Medicine Number = 2...\n",
      "Day Number = 1 and Medicine Number = 3...\n",
      "Good Night...\n",
      "~~~~~~~~~~~~~~~~~~~~~~~~~~~~~~~~~~~~~~~~~~~~~~\n",
      "Good Morning...\n",
      "Day Number = 2 and Medicine Number = 1...\n",
      "Day Number = 2 and Medicine Number = 2...\n",
      "Day Number = 2 and Medicine Number = 3...\n",
      "Good Night...\n",
      "~~~~~~~~~~~~~~~~~~~~~~~~~~~~~~~~~~~~~~~~~~~~~~\n",
      "Good Morning...\n",
      "Day Number = 3 and Medicine Number = 1...\n",
      "Day Number = 3 and Medicine Number = 2...\n",
      "Day Number = 3 and Medicine Number = 3...\n",
      "Good Night...\n",
      "~~~~~~~~~~~~~~~~~~~~~~~~~~~~~~~~~~~~~~~~~~~~~~\n",
      "Good Morning...\n",
      "Day Number = 4 and Medicine Number = 1...\n",
      "Day Number = 4 and Medicine Number = 2...\n",
      "Day Number = 4 and Medicine Number = 3...\n",
      "Good Night...\n",
      "~~~~~~~~~~~~~~~~~~~~~~~~~~~~~~~~~~~~~~~~~~~~~~\n",
      "Good Morning...\n",
      "Day Number = 5 and Medicine Number = 1...\n",
      "Day Number = 5 and Medicine Number = 2...\n",
      "Day Number = 5 and Medicine Number = 3...\n",
      "Good Night...\n",
      "~~~~~~~~~~~~~~~~~~~~~~~~~~~~~~~~~~~~~~~~~~~~~~\n",
      "Thanks to Doctor...\n",
      "So total number of medicines consumed is 15...\n",
      "End of the program...\n"
     ]
    }
   ],
   "source": [
    "# nested loop\n",
    "print (\"Visit Doctor...\")    # 1 time\n",
    "medicount = 0\n",
    "for day in range(1, 6):\n",
    "    print (\"Good Morning...\")    # 5 times\n",
    "    for medi in range(1, 4):\n",
    "        print (f\"Day Number = {day} and Medicine Number = {medi}...\")    # 15 time\n",
    "        medicount += 1\n",
    "    print (\"Good Night...\")    # 5 times\n",
    "    print (\"~~~~~~~~~~~~~~~~~~~~~~~~~~~~~~~~~~~~~~~~~~~~~~\")    # 5 times\n",
    "print (\"Thanks to Doctor...\")    # 1 time\n",
    "print (f\"So total number of medicines consumed is {medicount}...\")\n",
    "print (\"End of the program...\")"
   ]
  },
  {
   "cell_type": "code",
   "execution_count": 64,
   "id": "c86ee52d-5942-4f48-a6e6-2a50fdab692e",
   "metadata": {},
   "outputs": [
    {
     "name": "stdout",
     "output_type": "stream",
     "text": [
      "HelloHelloHelloHello\n",
      "Hello Hello Hello Hello \n",
      "Greeting Greeting Greeting Greeting Greeting Greeting Greeting Greeting Greeting Greeting \n"
     ]
    }
   ],
   "source": [
    "print (\"Hello\" * 4)\n",
    "print (\"Hello \" * 4)\n",
    "print (\"Greeting \" * 10)"
   ]
  },
  {
   "cell_type": "code",
   "execution_count": null,
   "id": "996869e7-7398-4b08-9474-e5ec0533e34b",
   "metadata": {},
   "outputs": [],
   "source": [
    "# Pattern - 1\n",
    "\n",
    "n = 6         i    .    *\n",
    "            ---------------\n",
    ".....*        1    5    1        i, n\n",
    "....***       2    4    3   . => (n - i)\n",
    "...*****      3    3    5\n",
    "..*******     4    2    7   * => (2 * i - 1)\n",
    ".*********    5    1    9\n",
    "***********   6    0   11\n",
    "            ---------------"
   ]
  },
  {
   "cell_type": "code",
   "execution_count": 67,
   "id": "03c680af-8ac6-4b8a-a7b0-b89f58bf15dc",
   "metadata": {},
   "outputs": [
    {
     "name": "stdin",
     "output_type": "stream",
     "text": [
      "Please enter the number of layers:  6\n"
     ]
    },
    {
     "name": "stdout",
     "output_type": "stream",
     "text": [
      ".....*\n",
      "....***\n",
      "...*****\n",
      "..*******\n",
      ".*********\n",
      "***********\n",
      "End of the program...\n"
     ]
    }
   ],
   "source": [
    "n = int(input(\"Please enter the number of layers: \"))\n",
    "for i in range(1, n + 1):\n",
    "    print (\".\" * (n - i) + \"*\" * (2 * i - 1))\n",
    "print (\"End of the program...\")"
   ]
  },
  {
   "cell_type": "code",
   "execution_count": null,
   "id": "c0819e60-b406-4d6d-a067-cd53603ad595",
   "metadata": {},
   "outputs": [],
   "source": [
    "# Pattern - 2\n",
    "\n",
    "n = 6         i    .    *\n",
    "            ---------------\n",
    "***********   1    0   11        i, n\n",
    ".*********    2    1    9   . => (i - 1)\n",
    "..*******     3    2    7\n",
    "...*****      4    3    5   * => (2 * (n - i) + 1)\n",
    "....***       5    4    3\n",
    ".....*        6    5    1\n",
    "            ---------------"
   ]
  },
  {
   "cell_type": "code",
   "execution_count": 70,
   "id": "6b1ea099-4e6e-4fd5-9c83-002179fe9521",
   "metadata": {},
   "outputs": [
    {
     "name": "stdin",
     "output_type": "stream",
     "text": [
      "Please enter the number of layers:  6\n"
     ]
    },
    {
     "name": "stdout",
     "output_type": "stream",
     "text": [
      "***********\n",
      ".*********\n",
      "..*******\n",
      "...*****\n",
      "....***\n",
      ".....*\n",
      "End of the program...\n"
     ]
    }
   ],
   "source": [
    "n = int(input(\"Please enter the number of layers: \"))\n",
    "for i in range(1, n + 1):\n",
    "    print (\".\" * (i - 1) + \"*\" * (2 * (n - i) + 1))\n",
    "print (\"End of the program...\")"
   ]
  },
  {
   "cell_type": "code",
   "execution_count": null,
   "id": "75f163b9-4a21-4982-bfc6-5ba84dbc4ec3",
   "metadata": {},
   "outputs": [],
   "source": [
    "# Pattern - 3\n",
    "\n",
    "n = 11 (ODD)  i    .    *    m = (11 + 1) // 2 = 6 = (n + 1) // 2 = 6\n",
    "            ---------------\n",
    ".....*        1    5    1        i, n, m\n",
    "....***       2    4    3   . => (m - i)\n",
    "...*****      3    3    5\n",
    "..*******     4    2    7   * => (2 * i - 1)\n",
    ".*********    5    1    9\n",
    "*********** __6____0___11__\n",
    ".*********    7    1    9\n",
    "..*******     8    2    7   . => (i - m)\n",
    "...*****      9    3    5\n",
    "....***      10    4    3   * => (2 * (n - i) + 1)\n",
    ".....*       11    5    1\n",
    "            ---------------"
   ]
  },
  {
   "cell_type": "code",
   "execution_count": 75,
   "id": "0733fc46-ea18-4da4-9a1c-de60eb1bc9e4",
   "metadata": {},
   "outputs": [
    {
     "name": "stdin",
     "output_type": "stream",
     "text": [
      "Please enter the ODD number of layers:  12\n",
      "Please enter the ODD number of layers:  10\n",
      "Please enter the ODD number of layers:  34\n",
      "Please enter the ODD number of layers:  24\n",
      "Please enter the ODD number of layers:  18\n",
      "Please enter the ODD number of layers:  11\n"
     ]
    },
    {
     "name": "stdout",
     "output_type": "stream",
     "text": [
      ".....*\n",
      "....***\n",
      "...*****\n",
      "..*******\n",
      ".*********\n",
      "***********\n",
      ".*********\n",
      "..*******\n",
      "...*****\n",
      "....***\n",
      ".....*\n",
      "End of the program...\n"
     ]
    }
   ],
   "source": [
    "while (True):\n",
    "    n = int(input(\"Please enter the ODD number of layers: \"))\n",
    "    if (n % 2 == 1): break\n",
    "m = (n + 1) // 2\n",
    "for i in range(1, n + 1):\n",
    "    if (i > m):\n",
    "        b = (i - m); s = (2 * (n - i) + 1)\n",
    "    else:\n",
    "        b = (m - i); s = (2 * i - 1) \n",
    "    print (\".\" * b + \"*\" * s)\n",
    "print (\"End of the program...\")"
   ]
  },
  {
   "cell_type": "code",
   "execution_count": 10,
   "id": "9fb53478-d1f9-4461-b589-c4b53325a072",
   "metadata": {},
   "outputs": [
    {
     "name": "stdout",
     "output_type": "stream",
     "text": [
      "[101, 'Williumns', 'Developer', True, 1000.5] 5 <class 'list'> 1831821537088\n",
      "(101, 'Williumns', 'Developer', True, 1000.5) 5 <class 'tuple'> 1831821867984\n",
      "{'empid': 505, 'empname': 'Williumns', 'job': 'Developer', 'married': True, 'salary': 1000.5} 5 <class 'dict'> 1831837915840\n",
      "{True, 101, 'Williumns', 1000.5, 'Developer'} 5 <class 'set'> 1831842920032\n",
      "frozenset({True, 101, 'Williumns', 1000.5, 'Developer'}) 5 <class 'frozenset'> 1831842918912\n"
     ]
    }
   ],
   "source": [
    "# implicit collection objects\n",
    "list1 = [101, \"Williumns\", \"Developer\", True, 1000.50]\n",
    "print (list1, len(list1), type(list1), id(list1))\n",
    "tuple1 = (101, \"Williumns\", \"Developer\", True, 1000.50)\n",
    "print (tuple1, len(tuple1), type(tuple1), id(tuple1))\n",
    "dict1 = {\"empid\":101, \"empname\":\"Williumns\", \"job\":\"Developer\", \"married\":True, \"salary\":1000.50, \"empid\":505}\n",
    "print (dict1, len(dict1), type(dict1), id(dict1))\n",
    "set1 = {101, \"Williumns\", \"Developer\", True, 1000.50, \"Developer\", True, 1000.50}\n",
    "print (set1, len(set1), type(set1), id(set1))\n",
    "frset1 = frozenset([101, \"Williumns\", \"Developer\", True, 1000.50])\n",
    "print (frset1, len(frset1), type(frset1), id(frset1))"
   ]
  },
  {
   "cell_type": "code",
   "execution_count": 13,
   "id": "60680f3f-5851-4df9-aba0-8c9238e618d6",
   "metadata": {},
   "outputs": [
    {
     "name": "stdout",
     "output_type": "stream",
     "text": [
      "[] 0 <class 'list'> 1831838025536\n",
      "() 0 <class 'tuple'> 1833893625920\n",
      "{} 0 <class 'dict'> 1831837483456\n",
      "set() 0 <class 'set'> 1831842918688\n",
      "frozenset() 0 <class 'frozenset'> 1831803656896\n"
     ]
    }
   ],
   "source": [
    "list1 = []\n",
    "print (list1, len(list1), type(list1), id(list1))\n",
    "tuple1 = ()\n",
    "print (tuple1, len(tuple1), type(tuple1), id(tuple1))\n",
    "dict1 = {}\n",
    "print (dict1, len(dict1), type(dict1), id(dict1))\n",
    "set1 = set()\n",
    "print (set1, len(set1), type(set1), id(set1))\n",
    "frset1 = frozenset()\n",
    "print (frset1, len(frset1), type(frset1), id(frset1))"
   ]
  },
  {
   "cell_type": "code",
   "execution_count": 19,
   "id": "1019663b-ee3a-4661-9d5f-d8202316481b",
   "metadata": {},
   "outputs": [
    {
     "name": "stdout",
     "output_type": "stream",
     "text": [
      "256 <class 'int'> 140706413889296\n",
      "256 <class 'int'> 140706413889296\n",
      "256 <class 'int'> 140706413889296\n",
      "\n",
      "257 <class 'int'> 1831842981040\n",
      "257 <class 'int'> 1831842980944\n",
      "257 <class 'int'> 1831842981040\n"
     ]
    }
   ],
   "source": [
    "# if multiple variables are having values ranging from -5 to 256 (inclusive) then against them same memory space will be allocated\n",
    "var1 = 256\n",
    "print (var1, type(var1), id(var1))\n",
    "var2 = 256\n",
    "print (var2, type(var2), id(var2))\n",
    "var3 = var1\n",
    "print (var3, type(var3), id(var3))\n",
    "print (\"\")\n",
    "var1 = 257\n",
    "print (var1, type(var1), id(var1))\n",
    "var2 = 257\n",
    "print (var2, type(var2), id(var2))\n",
    "var3 = var1\n",
    "print (var3, type(var3), id(var3))"
   ]
  },
  {
   "cell_type": "code",
   "execution_count": 20,
   "id": "4a1a9bba-a80f-4968-83f9-78eccc3ccfbb",
   "metadata": {},
   "outputs": [
    {
     "name": "stdout",
     "output_type": "stream",
     "text": [
      "-5 <class 'int'> 140706413880944\n",
      "-5 <class 'int'> 140706413880944\n",
      "-5 <class 'int'> 140706413880944\n",
      "\n",
      "-6 <class 'int'> 1831842981040\n",
      "-6 <class 'int'> 1831842980976\n",
      "-6 <class 'int'> 1831842981040\n"
     ]
    }
   ],
   "source": [
    "var1 = -5\n",
    "print (var1, type(var1), id(var1))\n",
    "var2 = -5\n",
    "print (var2, type(var2), id(var2))\n",
    "var3 = var1\n",
    "print (var3, type(var3), id(var3))\n",
    "print (\"\")\n",
    "var1 = -6\n",
    "print (var1, type(var1), id(var1))\n",
    "var2 = -6\n",
    "print (var2, type(var2), id(var2))\n",
    "var3 = var1\n",
    "print (var3, type(var3), id(var3))"
   ]
  },
  {
   "cell_type": "markdown",
   "id": "5decbc54-fb43-43dd-9811-acd4ff2a3f5a",
   "metadata": {},
   "source": [
    "### Python Functions"
   ]
  },
  {
   "cell_type": "code",
   "execution_count": 22,
   "id": "c64c3db0-c8f6-4326-a45f-9ef0ac5ebb59",
   "metadata": {},
   "outputs": [
    {
     "name": "stdout",
     "output_type": "stream",
     "text": [
      "Hello Hello Hello Hello Hello \n",
      "Hello Hello Hello Hello Hello \n",
      "Hello Hello Hello Hello Hello \n"
     ]
    }
   ],
   "source": [
    "def funct1():\n",
    "    print (\"Hello \" * 5)\n",
    "funct1()\n",
    "funct1()\n",
    "funct1()"
   ]
  },
  {
   "cell_type": "code",
   "execution_count": 23,
   "id": "5a8b4916-c783-4e46-a001-0c0b805ec21b",
   "metadata": {},
   "outputs": [
    {
     "name": "stdout",
     "output_type": "stream",
     "text": [
      "Hello Hello Hello Hello Hello Hello \n",
      "Hi !!! Hi !!! Hi !!! \n",
      "Good Morning Good Morning Good Morning Good Morning Good Morning Good Morning Good Morning \n"
     ]
    }
   ],
   "source": [
    "def funct2(msg, times):     # positional parameter\n",
    "    print (msg * times)\n",
    "funct2(\"Hello \", 6)         # positional argument\n",
    "funct2(\"Hi !!! \", 3)\n",
    "funct2(\"Good Morning \", 7)"
   ]
  },
  {
   "cell_type": "code",
   "execution_count": 24,
   "id": "3db72938-18f3-4c42-bb72-4d7deceeffea",
   "metadata": {},
   "outputs": [
    {
     "name": "stdout",
     "output_type": "stream",
     "text": [
      "Hello Hello Hello Hello Hello Hello \n",
      "Hi !!! Hi !!! Hi !!! \n",
      "Good Morning Good Morning Good Morning Good Morning Good Morning Good Morning Good Morning \n"
     ]
    }
   ],
   "source": [
    "def funct3(msg, times):     # positional parameter\n",
    "    return (msg * times)\n",
    "result = funct3(\"Hello \", 6)         # positional argument\n",
    "print (result)\n",
    "print (funct3(\"Hi !!! \", 3))\n",
    "print (funct3(\"Good Morning \", 7))"
   ]
  },
  {
   "cell_type": "code",
   "execution_count": 35,
   "id": "ef63d00c-b1f1-4ac2-a6a6-037cb6fce1df",
   "metadata": {},
   "outputs": [
    {
     "name": "stdout",
     "output_type": "stream",
     "text": [
      "par1 = 100, par2 = 200 and par3 = 300...\n",
      "par1 = 100, par2 = 200 and par3 = 333...\n",
      "par1 = 100, par2 = 222 and par3 = 333...\n",
      "par1 = 111, par2 = 222 and par3 = 333...\n",
      "par1 = 100, par2 = 200 and par3 = 333...\n",
      "par1 = 100, par2 = 200 and par3 = 300...\n",
      "par1 = 111, par2 = 200 and par3 = 333...\n"
     ]
    }
   ],
   "source": [
    "# parameters with default arguments\n",
    "def funct4(par1 = 111, par2 = 222, par3 = 333):\n",
    "    print (f\"par1 = {par1}, par2 = {par2} and par3 = {par3}...\")\n",
    "    \n",
    "funct4(100, 200, 300)\n",
    "funct4(100, 200)\n",
    "funct4(100)\n",
    "funct4()\n",
    "funct4(par2 = 200, par1 = 100)\n",
    "funct4(par2 = 200, par3 = 300, par1 = 100)\n",
    "funct4(par2 = 200)"
   ]
  },
  {
   "cell_type": "code",
   "execution_count": 38,
   "id": "d75abc0d-f460-4669-9c1e-7d37959a2739",
   "metadata": {},
   "outputs": [
    {
     "name": "stdout",
     "output_type": "stream",
     "text": [
      "Total = 140, Difference = 60, Product = 4000 and Quotient = 2.5...\n",
      "(140, 60, 4000, 2.5) 4 <class 'tuple'> 1831835187136\n",
      "Total = 140, Difference = 60, Product = 4000 and Quotient = 2.5...\n"
     ]
    }
   ],
   "source": [
    "# function return arguments\n",
    "def funct5(num1, num2):\n",
    "    total = num1 + num2\n",
    "    difference = num1 - num2\n",
    "    product = num1 * num2\n",
    "    quotient = num1 / num2\n",
    "    return total, difference, product, quotient\n",
    "\n",
    "tt, dd, pp, qq = funct5(100, 40)\n",
    "print (f\"Total = {tt}, Difference = {dd}, Product = {pp} and Quotient = {qq}...\")\n",
    "result = funct5(100, 40)\n",
    "print (result, len(result), type(result), id(result))\n",
    "print (f\"Total = {result[0]}, Difference = {result[1]}, Product = {result[2]} and Quotient = {result[3]}...\")"
   ]
  },
  {
   "cell_type": "code",
   "execution_count": 41,
   "id": "a413bb89-12fc-4782-9e56-25deb9b530fc",
   "metadata": {},
   "outputs": [
    {
     "name": "stdout",
     "output_type": "stream",
     "text": [
      "500\n",
      "200\n"
     ]
    }
   ],
   "source": [
    "def funct6(par1, par2 = None):\n",
    "    # if (par2 == None):\n",
    "    if (par2 is None):\n",
    "        return par1 + par1\n",
    "    else:\n",
    "        return par1 + par2\n",
    "    \n",
    "print (funct6(100, 400))\n",
    "print (funct6(100))"
   ]
  },
  {
   "cell_type": "code",
   "execution_count": 43,
   "id": "c18727f3-84de-4614-8bf6-906b2b063d83",
   "metadata": {},
   "outputs": [
    {
     "name": "stdout",
     "output_type": "stream",
     "text": [
      "('Red', 'Blue', 'Green') 3 <class 'tuple'> 1831837916032\n",
      "('Red', 'Blue', 'Green', 'White', 'Yellow') 5 <class 'tuple'> 1831821867984\n",
      "('Red', 'Blue', 'Green', 'White', 'Yellow', 'Silver', 'Golden') 7 <class 'tuple'> 1831843007936\n"
     ]
    }
   ],
   "source": [
    "# function with variable number of arguments\n",
    "def funct7(*arg):   # *arg is a variable of tuple type forcefully defined\n",
    "    print (arg, len(arg), type(arg), id(arg))\n",
    "    \n",
    "funct7(\"Red\", \"Blue\", \"Green\")\n",
    "funct7(\"Red\", \"Blue\", \"Green\", \"White\", \"Yellow\")\n",
    "funct7(\"Red\", \"Blue\", \"Green\", \"White\", \"Yellow\", \"Silver\", \"Golden\")"
   ]
  },
  {
   "cell_type": "code",
   "execution_count": 46,
   "id": "5ab59ade-1e11-480d-9219-cdab39576135",
   "metadata": {},
   "outputs": [
    {
     "name": "stdout",
     "output_type": "stream",
     "text": [
      "{'empid': 101, 'empname': 'Williums', 'job': 'Developer'} 3 <class 'dict'> 1831836803264\n",
      "{'empid': 101, 'empname': 'Williums', 'job': 'Developer', 'location': 'Canada', 'married': True} 5 <class 'dict'> 1831836896576\n",
      "{'empid': 101, 'empname': 'Williums', 'job': 'Developer', 'location': 'Canada', 'married': True, 'salary': 5000} 6 <class 'dict'> 1831838608000\n"
     ]
    }
   ],
   "source": [
    "# function with variable number of arguments using key-word arguements\n",
    "def funct8(**kwarg):   # **kwarg is a variable of dictionary type forcefully defined\n",
    "    print (kwarg, len(kwarg), type(kwarg), id(kwarg))\n",
    "    \n",
    "funct8(empid = 101, empname = \"Williums\", job = \"Developer\")\n",
    "funct8(empid = 101, empname = \"Williums\", job = \"Developer\", location = \"Canada\", married = True)\n",
    "funct8(empid = 101, empname = \"Williums\", job = \"Developer\", location = \"Canada\", married = True, salary = 5000)"
   ]
  },
  {
   "cell_type": "code",
   "execution_count": 53,
   "id": "c561d161-b07a-4483-a005-71f0784b265a",
   "metadata": {},
   "outputs": [
    {
     "name": "stdout",
     "output_type": "stream",
     "text": [
      "('Red', 'Blue', 'Green') 3 <class 'tuple'> 1831838646016\n",
      "{'empid': 101, 'empname': 'Williums', 'job': 'Developer', 'location': 'Canada', 'married': True} 5 <class 'dict'> 1831839140736\n",
      "\n",
      "('Red', 'Blue', 'Green') 3 <class 'tuple'> 1831838646016\n",
      "{} 0 <class 'dict'> 1831839139648\n",
      "\n",
      "() 0 <class 'tuple'> 1833893625920\n",
      "{'empid': 101, 'empname': 'Williums', 'job': 'Developer', 'location': 'Canada', 'married': True} 5 <class 'dict'> 1831839138176\n",
      "\n",
      "<class 'function'> 1831850290480\n"
     ]
    }
   ],
   "source": [
    "# function with variable number of arguments\n",
    "def funct9(*arg, **kwarg):\n",
    "    print (arg, len(arg), type(arg), id(arg))\n",
    "    print (kwarg, len(kwarg), type(kwarg), id(kwarg))\n",
    "    \n",
    "funct9(\"Red\", \"Blue\", \"Green\", empid = 101, empname = \"Williums\", job = \"Developer\", location = \"Canada\", married = True)\n",
    "print ()\n",
    "funct9(\"Red\", \"Blue\", \"Green\")\n",
    "print ()\n",
    "funct9(empid = 101, empname = \"Williums\", job = \"Developer\", location = \"Canada\", married = True)\n",
    "print ()\n",
    "print (type(funct9), id(funct9))"
   ]
  },
  {
   "cell_type": "code",
   "execution_count": 56,
   "id": "e9c43480-e985-4725-8cd4-baff9cf7c12f",
   "metadata": {},
   "outputs": [
    {
     "name": "stdout",
     "output_type": "stream",
     "text": [
      "1\n",
      "Looping for i = 1...\n",
      "Looping for i = 2...\n",
      "Looping for i = 3...\n",
      "Looping for i = 4...\n",
      "Looping for i = 5...\n",
      "120\n",
      "Looping for i = 1...\n",
      "Looping for i = 2...\n",
      "Looping for i = 3...\n",
      "Looping for i = 4...\n",
      "Looping for i = 5...\n",
      "Looping for i = 6...\n",
      "720\n"
     ]
    }
   ],
   "source": [
    "# non-recursive (iterative) factorial calculation function\n",
    "def factorial_nr(num):\n",
    "    fact = 1\n",
    "    if (num == 0 or num == 1): return 1\n",
    "    for i in range(1, num + 1):\n",
    "        fact = fact * i\n",
    "        print (f\"Looping for i = {i}...\")\n",
    "        \n",
    "    return fact\n",
    "\n",
    "print (factorial_nr(0))\n",
    "print (factorial_nr(5))\n",
    "print (factorial_nr(6))"
   ]
  },
  {
   "cell_type": "code",
   "execution_count": 57,
   "id": "279feb2d-1ef9-41c9-b8be-cda1e306eaa5",
   "metadata": {},
   "outputs": [
    {
     "name": "stdout",
     "output_type": "stream",
     "text": [
      "1\n",
      "Looping for i = 2...\n",
      "Looping for i = 3...\n",
      "Looping for i = 4...\n",
      "Looping for i = 5...\n",
      "120\n",
      "Looping for i = 2...\n",
      "Looping for i = 3...\n",
      "Looping for i = 4...\n",
      "Looping for i = 5...\n",
      "Looping for i = 6...\n",
      "720\n"
     ]
    }
   ],
   "source": [
    "def factorial_nr(num):\n",
    "    fact = 1\n",
    "    if (num == 0 or num == 1): return 1\n",
    "    for i in range(2, num + 1):\n",
    "        fact = fact * i\n",
    "        print (f\"Looping for i = {i}...\")\n",
    "        \n",
    "    return fact\n",
    "\n",
    "print (factorial_nr(0))\n",
    "print (factorial_nr(5))\n",
    "print (factorial_nr(6))"
   ]
  },
  {
   "cell_type": "code",
   "execution_count": 59,
   "id": "4a6cf055-6549-446a-937a-b5e7f082e99b",
   "metadata": {},
   "outputs": [
    {
     "name": "stdout",
     "output_type": "stream",
     "text": [
      "1\n",
      "Looping for i = 2...\n",
      "Looping for i = 3...\n",
      "Looping for i = 4...\n",
      "120\n",
      "Looping for i = 2...\n",
      "Looping for i = 3...\n",
      "Looping for i = 4...\n",
      "Looping for i = 5...\n",
      "720\n"
     ]
    }
   ],
   "source": [
    "def factorial_nr(num):\n",
    "    fact = num\n",
    "    if (num == 0 or num == 1): return 1\n",
    "    for i in range(2, num):\n",
    "        fact = fact * i\n",
    "        print (f\"Looping for i = {i}...\")\n",
    "        \n",
    "    return fact\n",
    "\n",
    "print (factorial_nr(0))\n",
    "print (factorial_nr(5))\n",
    "print (factorial_nr(6))"
   ]
  },
  {
   "cell_type": "code",
   "execution_count": 60,
   "id": "e0b1d2b8-74f4-4073-987e-693423394de7",
   "metadata": {},
   "outputs": [
    {
     "name": "stdout",
     "output_type": "stream",
     "text": [
      "1\n",
      "120\n",
      "720\n"
     ]
    }
   ],
   "source": [
    "# recursive factorial calculation function\n",
    "def factorial_r(num):\n",
    "    if (num == 0 or num == 1): return 1   # case 1: base case, for certain inputs outputs are known to us\n",
    "       \n",
    "    return num * factorial_r(num - 1)     # case 2: recursive case, the function will be called from the function itself\n",
    "\n",
    "print (factorial_r(0))\n",
    "print (factorial_r(5))\n",
    "print (factorial_r(6))"
   ]
  },
  {
   "cell_type": "code",
   "execution_count": null,
   "id": "57639e62-d09b-46b8-b1fa-27217fe6899a",
   "metadata": {},
   "outputs": [],
   "source": [
    "factorial_r(5)\n",
    "    5 * factorial_r(4)\n",
    "            4 * factorial_r(3)\n",
    "                    3 * factorial_r(2)\n",
    "                            2 * factorial_r(1)\n",
    "                                    1\n",
    "                            2\n",
    "                    6\n",
    "            24\n",
    "    120"
   ]
  },
  {
   "cell_type": "markdown",
   "id": "8849b2b8-0c43-4163-90fc-d030109212b1",
   "metadata": {},
   "source": [
    "### Lambda Function"
   ]
  },
  {
   "cell_type": "code",
   "execution_count": 51,
   "id": "0e8a022f-c33f-429a-8c14-7f9d4d7635cb",
   "metadata": {},
   "outputs": [
    {
     "name": "stdout",
     "output_type": "stream",
     "text": [
      "<class 'function'> 1831846002544\n",
      "100 144\n"
     ]
    }
   ],
   "source": [
    "# lambda function also called ananymous function\n",
    "mySquare = lambda num: num * num\n",
    "print (type(mySquare), id(mySquare))\n",
    "print (mySquare(10), mySquare(12))"
   ]
  },
  {
   "cell_type": "code",
   "execution_count": null,
   "id": "2d204443-c455-4b92-80d7-3c192de6c6a1",
   "metadata": {},
   "outputs": [],
   "source": [
    "Due topics: Recursive and Non-Recursive functions and more with Lambda function\n",
    "Code with Harry - YT"
   ]
  },
  {
   "cell_type": "code",
   "execution_count": 61,
   "id": "790a3217-f5d1-4baf-b44f-9e2027edf811",
   "metadata": {},
   "outputs": [
    {
     "name": "stdout",
     "output_type": "stream",
     "text": [
      "<class 'function'> 1831850288464\n",
      "600 333\n"
     ]
    }
   ],
   "source": [
    "myAddition = lambda num1, num2: num1 + num2\n",
    "print (type(myAddition), id(myAddition))\n",
    "print (myAddition(100, 500), myAddition(111, 222))"
   ]
  },
  {
   "cell_type": "code",
   "execution_count": 62,
   "id": "d41669a4-d9d0-4853-919e-f321b38aa618",
   "metadata": {},
   "outputs": [
    {
     "name": "stdout",
     "output_type": "stream",
     "text": [
      "1\n",
      "120\n",
      "720\n"
     ]
    }
   ],
   "source": [
    "myFactorial = lambda num: 1 if (num == 0 or num == 1) else num * myFactorial(num - 1)\n",
    "\n",
    "print (myFactorial(0))\n",
    "print (myFactorial(5))\n",
    "print (myFactorial(6))"
   ]
  },
  {
   "cell_type": "code",
   "execution_count": 64,
   "id": "9507ce71-8409-4e43-b4ad-e5b91cafc590",
   "metadata": {},
   "outputs": [
    {
     "name": "stdout",
     "output_type": "stream",
     "text": [
      "30\n",
      "80\n"
     ]
    }
   ],
   "source": [
    "def myFunction(num):\n",
    "    myprod = lambda n: n * num\n",
    "    return myprod\n",
    "\n",
    "var10 = myFunction(10)\n",
    "var20 = myFunction(20)\n",
    "print (var10(3))\n",
    "print (var20(4))"
   ]
  },
  {
   "cell_type": "markdown",
   "id": "cc0b3c8f-bed4-48d2-af11-530b8dedf1ec",
   "metadata": {},
   "source": [
    "### Module"
   ]
  },
  {
   "cell_type": "code",
   "execution_count": 75,
   "id": "16dcbd01-5638-4fa6-8248-82fb241c10f5",
   "metadata": {},
   "outputs": [
    {
     "name": "stdout",
     "output_type": "stream",
     "text": [
      "0.0 1.0 0.0\n",
      "8 8 9 9\n",
      "12.0 10.04987562112089\n",
      "1000 10.45 10.1\n",
      "2.302585092994046 2.302585092994046\n",
      "3.0 2.9999999999999996\n",
      "10.0 10.0\n",
      "20 200.0\n",
      "3.141592653589793 6.283185307179586 2.718281828459045\n"
     ]
    }
   ],
   "source": [
    "# math module\n",
    "import math\n",
    "print (math.sin(0), math.cos(0), math.tan(0))\n",
    "print (math.floor(8.1), math.floor(8.9), math.ceil(8.1), math.ceil(8.9))\n",
    "print (math.sqrt(144), math.sqrt(101))\n",
    "print (abs(-1000), abs(10.45), abs(-10.1))\n",
    "print (math.log(10), math.log(10, math.e))\n",
    "print (math.log10(1000), math.log(1000, 10))\n",
    "print (math.log2(1024), math.log(1024, 2))\n",
    "print (math.gcd(100, 40), (100 * 40) / math.gcd(100, 40))\n",
    "print (math.pi, math.tau, math.e)"
   ]
  },
  {
   "cell_type": "code",
   "execution_count": null,
   "id": "8f5dfc6f-af34-4cb7-b21e-c4d33fd2b9d3",
   "metadata": {},
   "outputs": [],
   "source": [
    "help(math)"
   ]
  },
  {
   "cell_type": "markdown",
   "id": "fb241012-39d2-4240-b412-1632b448716f",
   "metadata": {},
   "source": [
    "### String Processing"
   ]
  },
  {
   "cell_type": "code",
   "execution_count": null,
   "id": "75ae3111-1ff7-445f-94be-b33673f9d3dd",
   "metadata": {},
   "outputs": [],
   "source": [
    "from left to right ->   0   1   2   3   4   5   6   7   8   9\n",
    "             mystr ->   u   n   i   v   e   r   s   i   t   y\n",
    "from right to left -> -10  -9  -8  -7  -6  -5  -4  -3  -2  -1"
   ]
  },
  {
   "cell_type": "code",
   "execution_count": 83,
   "id": "f057b0ab-a417-4651-aeb1-641efad00226",
   "metadata": {},
   "outputs": [
    {
     "name": "stdout",
     "output_type": "stream",
     "text": [
      "r r t t\n",
      "ver ver ver ver\n",
      "univer univer sity sity\n",
      "uiest nvriy ytisrevinu\n"
     ]
    }
   ],
   "source": [
    "mystr = \"university\"\n",
    "print (mystr[5], mystr[-5], mystr[8], mystr[-2])   # string indexing\n",
    "print (mystr[3:6], mystr[-7:-4], mystr[3:-4], mystr[-7:6])   # string slicing\n",
    "print (mystr[:6], mystr[:-4], mystr[6:], mystr[-4:])\n",
    "print (mystr[::2], mystr[1::2], mystr[::-1])"
   ]
  },
  {
   "cell_type": "code",
   "execution_count": 85,
   "id": "41156b51-c497-42a7-aa9a-b02acb844500",
   "metadata": {},
   "outputs": [
    {
     "name": "stdout",
     "output_type": "stream",
     "text": [
      "sanDFord uniVERsity 19\n",
      "SANDFORD UNIVERSITY\n",
      "sandford university\n",
      "Sandford university\n",
      "Sandford University\n",
      "SANdfORD UNIverSITY\n"
     ]
    }
   ],
   "source": [
    "mystr = \"sanDFord uniVERsity\"\n",
    "print (mystr, len(mystr))\n",
    "print (mystr.upper())\n",
    "print (mystr.lower())\n",
    "print (mystr.capitalize())\n",
    "print (mystr.title())\n",
    "print (mystr.swapcase())"
   ]
  },
  {
   "cell_type": "code",
   "execution_count": 86,
   "id": "6454b61f-33fa-4f97-a2b8-9af57da4f4e5",
   "metadata": {},
   "outputs": [
    {
     "name": "stdout",
     "output_type": "stream",
     "text": [
      "1234 4 1831847382768\n",
      "False True True\n"
     ]
    }
   ],
   "source": [
    "mystr = \"1234\"\n",
    "print (mystr, len(mystr), id(mystr))\n",
    "print (mystr.isalpha(), mystr.isnumeric(), mystr.isalnum())"
   ]
  },
  {
   "cell_type": "code",
   "execution_count": 87,
   "id": "1622bfdc-4d54-4e99-986b-e411ad05cd94",
   "metadata": {},
   "outputs": [
    {
     "name": "stdout",
     "output_type": "stream",
     "text": [
      "abcd 4 1831847290544\n",
      "True False True\n"
     ]
    }
   ],
   "source": [
    "mystr = \"abcd\"\n",
    "print (mystr, len(mystr), id(mystr))\n",
    "print (mystr.isalpha(), mystr.isnumeric(), mystr.isalnum())"
   ]
  },
  {
   "cell_type": "code",
   "execution_count": 88,
   "id": "2c71621c-bf4e-4740-a5ef-e156b0087939",
   "metadata": {},
   "outputs": [
    {
     "name": "stdout",
     "output_type": "stream",
     "text": [
      "abcd1234 8 1831847356592\n",
      "False False True\n"
     ]
    }
   ],
   "source": [
    "mystr = \"abcd1234\"\n",
    "print (mystr, len(mystr), id(mystr))\n",
    "print (mystr.isalpha(), mystr.isnumeric(), mystr.isalnum())"
   ]
  },
  {
   "cell_type": "code",
   "execution_count": 89,
   "id": "88c6a907-a208-4f30-80a6-9d59f32a216e",
   "metadata": {},
   "outputs": [
    {
     "name": "stdout",
     "output_type": "stream",
     "text": [
      "abcd@1234 9 1831847444592\n",
      "False False False\n"
     ]
    }
   ],
   "source": [
    "mystr = \"abcd@1234\"\n",
    "print (mystr, len(mystr), id(mystr))\n",
    "print (mystr.isalpha(), mystr.isnumeric(), mystr.isalnum())"
   ]
  },
  {
   "cell_type": "code",
   "execution_count": 95,
   "id": "f18bd421-b03e-4ce9-adbe-dc81722a7750",
   "metadata": {},
   "outputs": [
    {
     "name": "stdout",
     "output_type": "stream",
     "text": [
      "Mumbai University\n",
      "3 10\n",
      "3 10\n",
      "-1\n"
     ]
    },
    {
     "ename": "ValueError",
     "evalue": "substring not found",
     "output_type": "error",
     "traceback": [
      "\u001b[1;31m---------------------------------------------------------------------------\u001b[0m",
      "\u001b[1;31mValueError\u001b[0m                                Traceback (most recent call last)",
      "\u001b[1;32m<ipython-input-95-96ac94ae210e>\u001b[0m in \u001b[0;36m<module>\u001b[1;34m\u001b[0m\n\u001b[0;32m      4\u001b[0m \u001b[0mprint\u001b[0m \u001b[1;33m(\u001b[0m\u001b[0mmystr\u001b[0m\u001b[1;33m.\u001b[0m\u001b[0mindex\u001b[0m\u001b[1;33m(\u001b[0m\u001b[1;34m\"bai\"\u001b[0m\u001b[1;33m)\u001b[0m\u001b[1;33m,\u001b[0m \u001b[0mmystr\u001b[0m\u001b[1;33m.\u001b[0m\u001b[0mindex\u001b[0m\u001b[1;33m(\u001b[0m\u001b[1;34m\"ver\"\u001b[0m\u001b[1;33m)\u001b[0m\u001b[1;33m)\u001b[0m\u001b[1;33m\u001b[0m\u001b[1;33m\u001b[0m\u001b[0m\n\u001b[0;32m      5\u001b[0m \u001b[0mprint\u001b[0m \u001b[1;33m(\u001b[0m\u001b[0mmystr\u001b[0m\u001b[1;33m.\u001b[0m\u001b[0mfind\u001b[0m\u001b[1;33m(\u001b[0m\u001b[1;34m\"xyz\"\u001b[0m\u001b[1;33m)\u001b[0m\u001b[1;33m)\u001b[0m\u001b[1;33m\u001b[0m\u001b[1;33m\u001b[0m\u001b[0m\n\u001b[1;32m----> 6\u001b[1;33m \u001b[0mprint\u001b[0m \u001b[1;33m(\u001b[0m\u001b[0mmystr\u001b[0m\u001b[1;33m.\u001b[0m\u001b[0mindex\u001b[0m\u001b[1;33m(\u001b[0m\u001b[1;34m\"xyz\"\u001b[0m\u001b[1;33m)\u001b[0m\u001b[1;33m)\u001b[0m\u001b[1;33m\u001b[0m\u001b[1;33m\u001b[0m\u001b[0m\n\u001b[0m",
      "\u001b[1;31mValueError\u001b[0m: substring not found"
     ]
    }
   ],
   "source": [
    "mystr = \"Mumbai University\"\n",
    "print (mystr)\n",
    "print (mystr.find(\"bai\"), mystr.find(\"ver\"))\n",
    "print (mystr.index(\"bai\"), mystr.index(\"ver\"))\n",
    "print (mystr.find(\"xyz\"))\n",
    "print (mystr.index(\"xyz\"))"
   ]
  },
  {
   "cell_type": "code",
   "execution_count": 99,
   "id": "47fda036-ec0f-4b32-b1c5-d2e9dc95f241",
   "metadata": {},
   "outputs": [
    {
     "name": "stdout",
     "output_type": "stream",
     "text": [
      "    university      19\n",
      "university 10\n",
      "university      15\n",
      "    university 14\n"
     ]
    }
   ],
   "source": [
    "mystr = \"    university     \"\n",
    "print (mystr, len(mystr))\n",
    "mystr1 = mystr.strip()\n",
    "print (mystr1, len(mystr1))\n",
    "mystr1 = mystr.lstrip()\n",
    "print (mystr1, len(mystr1))\n",
    "mystr1 = mystr.rstrip()\n",
    "print (mystr1, len(mystr1))"
   ]
  },
  {
   "cell_type": "code",
   "execution_count": 101,
   "id": "fca910d8-6f80-4977-8cb1-8f4193fa3b15",
   "metadata": {},
   "outputs": [
    {
     "name": "stdout",
     "output_type": "stream",
     "text": [
      "Help on class str in module builtins:\n",
      "\n",
      "class str(object)\n",
      " |  str(object='') -> str\n",
      " |  str(bytes_or_buffer[, encoding[, errors]]) -> str\n",
      " |  \n",
      " |  Create a new string object from the given object. If encoding or\n",
      " |  errors is specified, then the object must expose a data buffer\n",
      " |  that will be decoded using the given encoding and error handler.\n",
      " |  Otherwise, returns the result of object.__str__() (if defined)\n",
      " |  or repr(object).\n",
      " |  encoding defaults to sys.getdefaultencoding().\n",
      " |  errors defaults to 'strict'.\n",
      " |  \n",
      " |  Methods defined here:\n",
      " |  \n",
      " |  __add__(self, value, /)\n",
      " |      Return self+value.\n",
      " |  \n",
      " |  __contains__(self, key, /)\n",
      " |      Return key in self.\n",
      " |  \n",
      " |  __eq__(self, value, /)\n",
      " |      Return self==value.\n",
      " |  \n",
      " |  __format__(self, format_spec, /)\n",
      " |      Return a formatted version of the string as described by format_spec.\n",
      " |  \n",
      " |  __ge__(self, value, /)\n",
      " |      Return self>=value.\n",
      " |  \n",
      " |  __getattribute__(self, name, /)\n",
      " |      Return getattr(self, name).\n",
      " |  \n",
      " |  __getitem__(self, key, /)\n",
      " |      Return self[key].\n",
      " |  \n",
      " |  __getnewargs__(...)\n",
      " |  \n",
      " |  __gt__(self, value, /)\n",
      " |      Return self>value.\n",
      " |  \n",
      " |  __hash__(self, /)\n",
      " |      Return hash(self).\n",
      " |  \n",
      " |  __iter__(self, /)\n",
      " |      Implement iter(self).\n",
      " |  \n",
      " |  __le__(self, value, /)\n",
      " |      Return self<=value.\n",
      " |  \n",
      " |  __len__(self, /)\n",
      " |      Return len(self).\n",
      " |  \n",
      " |  __lt__(self, value, /)\n",
      " |      Return self<value.\n",
      " |  \n",
      " |  __mod__(self, value, /)\n",
      " |      Return self%value.\n",
      " |  \n",
      " |  __mul__(self, value, /)\n",
      " |      Return self*value.\n",
      " |  \n",
      " |  __ne__(self, value, /)\n",
      " |      Return self!=value.\n",
      " |  \n",
      " |  __repr__(self, /)\n",
      " |      Return repr(self).\n",
      " |  \n",
      " |  __rmod__(self, value, /)\n",
      " |      Return value%self.\n",
      " |  \n",
      " |  __rmul__(self, value, /)\n",
      " |      Return value*self.\n",
      " |  \n",
      " |  __sizeof__(self, /)\n",
      " |      Return the size of the string in memory, in bytes.\n",
      " |  \n",
      " |  __str__(self, /)\n",
      " |      Return str(self).\n",
      " |  \n",
      " |  capitalize(self, /)\n",
      " |      Return a capitalized version of the string.\n",
      " |      \n",
      " |      More specifically, make the first character have upper case and the rest lower\n",
      " |      case.\n",
      " |  \n",
      " |  casefold(self, /)\n",
      " |      Return a version of the string suitable for caseless comparisons.\n",
      " |  \n",
      " |  center(self, width, fillchar=' ', /)\n",
      " |      Return a centered string of length width.\n",
      " |      \n",
      " |      Padding is done using the specified fill character (default is a space).\n",
      " |  \n",
      " |  count(...)\n",
      " |      S.count(sub[, start[, end]]) -> int\n",
      " |      \n",
      " |      Return the number of non-overlapping occurrences of substring sub in\n",
      " |      string S[start:end].  Optional arguments start and end are\n",
      " |      interpreted as in slice notation.\n",
      " |  \n",
      " |  encode(self, /, encoding='utf-8', errors='strict')\n",
      " |      Encode the string using the codec registered for encoding.\n",
      " |      \n",
      " |      encoding\n",
      " |        The encoding in which to encode the string.\n",
      " |      errors\n",
      " |        The error handling scheme to use for encoding errors.\n",
      " |        The default is 'strict' meaning that encoding errors raise a\n",
      " |        UnicodeEncodeError.  Other possible values are 'ignore', 'replace' and\n",
      " |        'xmlcharrefreplace' as well as any other name registered with\n",
      " |        codecs.register_error that can handle UnicodeEncodeErrors.\n",
      " |  \n",
      " |  endswith(...)\n",
      " |      S.endswith(suffix[, start[, end]]) -> bool\n",
      " |      \n",
      " |      Return True if S ends with the specified suffix, False otherwise.\n",
      " |      With optional start, test S beginning at that position.\n",
      " |      With optional end, stop comparing S at that position.\n",
      " |      suffix can also be a tuple of strings to try.\n",
      " |  \n",
      " |  expandtabs(self, /, tabsize=8)\n",
      " |      Return a copy where all tab characters are expanded using spaces.\n",
      " |      \n",
      " |      If tabsize is not given, a tab size of 8 characters is assumed.\n",
      " |  \n",
      " |  find(...)\n",
      " |      S.find(sub[, start[, end]]) -> int\n",
      " |      \n",
      " |      Return the lowest index in S where substring sub is found,\n",
      " |      such that sub is contained within S[start:end].  Optional\n",
      " |      arguments start and end are interpreted as in slice notation.\n",
      " |      \n",
      " |      Return -1 on failure.\n",
      " |  \n",
      " |  format(...)\n",
      " |      S.format(*args, **kwargs) -> str\n",
      " |      \n",
      " |      Return a formatted version of S, using substitutions from args and kwargs.\n",
      " |      The substitutions are identified by braces ('{' and '}').\n",
      " |  \n",
      " |  format_map(...)\n",
      " |      S.format_map(mapping) -> str\n",
      " |      \n",
      " |      Return a formatted version of S, using substitutions from mapping.\n",
      " |      The substitutions are identified by braces ('{' and '}').\n",
      " |  \n",
      " |  index(...)\n",
      " |      S.index(sub[, start[, end]]) -> int\n",
      " |      \n",
      " |      Return the lowest index in S where substring sub is found,\n",
      " |      such that sub is contained within S[start:end].  Optional\n",
      " |      arguments start and end are interpreted as in slice notation.\n",
      " |      \n",
      " |      Raises ValueError when the substring is not found.\n",
      " |  \n",
      " |  isalnum(self, /)\n",
      " |      Return True if the string is an alpha-numeric string, False otherwise.\n",
      " |      \n",
      " |      A string is alpha-numeric if all characters in the string are alpha-numeric and\n",
      " |      there is at least one character in the string.\n",
      " |  \n",
      " |  isalpha(self, /)\n",
      " |      Return True if the string is an alphabetic string, False otherwise.\n",
      " |      \n",
      " |      A string is alphabetic if all characters in the string are alphabetic and there\n",
      " |      is at least one character in the string.\n",
      " |  \n",
      " |  isascii(self, /)\n",
      " |      Return True if all characters in the string are ASCII, False otherwise.\n",
      " |      \n",
      " |      ASCII characters have code points in the range U+0000-U+007F.\n",
      " |      Empty string is ASCII too.\n",
      " |  \n",
      " |  isdecimal(self, /)\n",
      " |      Return True if the string is a decimal string, False otherwise.\n",
      " |      \n",
      " |      A string is a decimal string if all characters in the string are decimal and\n",
      " |      there is at least one character in the string.\n",
      " |  \n",
      " |  isdigit(self, /)\n",
      " |      Return True if the string is a digit string, False otherwise.\n",
      " |      \n",
      " |      A string is a digit string if all characters in the string are digits and there\n",
      " |      is at least one character in the string.\n",
      " |  \n",
      " |  isidentifier(self, /)\n",
      " |      Return True if the string is a valid Python identifier, False otherwise.\n",
      " |      \n",
      " |      Call keyword.iskeyword(s) to test whether string s is a reserved identifier,\n",
      " |      such as \"def\" or \"class\".\n",
      " |  \n",
      " |  islower(self, /)\n",
      " |      Return True if the string is a lowercase string, False otherwise.\n",
      " |      \n",
      " |      A string is lowercase if all cased characters in the string are lowercase and\n",
      " |      there is at least one cased character in the string.\n",
      " |  \n",
      " |  isnumeric(self, /)\n",
      " |      Return True if the string is a numeric string, False otherwise.\n",
      " |      \n",
      " |      A string is numeric if all characters in the string are numeric and there is at\n",
      " |      least one character in the string.\n",
      " |  \n",
      " |  isprintable(self, /)\n",
      " |      Return True if the string is printable, False otherwise.\n",
      " |      \n",
      " |      A string is printable if all of its characters are considered printable in\n",
      " |      repr() or if it is empty.\n",
      " |  \n",
      " |  isspace(self, /)\n",
      " |      Return True if the string is a whitespace string, False otherwise.\n",
      " |      \n",
      " |      A string is whitespace if all characters in the string are whitespace and there\n",
      " |      is at least one character in the string.\n",
      " |  \n",
      " |  istitle(self, /)\n",
      " |      Return True if the string is a title-cased string, False otherwise.\n",
      " |      \n",
      " |      In a title-cased string, upper- and title-case characters may only\n",
      " |      follow uncased characters and lowercase characters only cased ones.\n",
      " |  \n",
      " |  isupper(self, /)\n",
      " |      Return True if the string is an uppercase string, False otherwise.\n",
      " |      \n",
      " |      A string is uppercase if all cased characters in the string are uppercase and\n",
      " |      there is at least one cased character in the string.\n",
      " |  \n",
      " |  join(self, iterable, /)\n",
      " |      Concatenate any number of strings.\n",
      " |      \n",
      " |      The string whose method is called is inserted in between each given string.\n",
      " |      The result is returned as a new string.\n",
      " |      \n",
      " |      Example: '.'.join(['ab', 'pq', 'rs']) -> 'ab.pq.rs'\n",
      " |  \n",
      " |  ljust(self, width, fillchar=' ', /)\n",
      " |      Return a left-justified string of length width.\n",
      " |      \n",
      " |      Padding is done using the specified fill character (default is a space).\n",
      " |  \n",
      " |  lower(self, /)\n",
      " |      Return a copy of the string converted to lowercase.\n",
      " |  \n",
      " |  lstrip(self, chars=None, /)\n",
      " |      Return a copy of the string with leading whitespace removed.\n",
      " |      \n",
      " |      If chars is given and not None, remove characters in chars instead.\n",
      " |  \n",
      " |  partition(self, sep, /)\n",
      " |      Partition the string into three parts using the given separator.\n",
      " |      \n",
      " |      This will search for the separator in the string.  If the separator is found,\n",
      " |      returns a 3-tuple containing the part before the separator, the separator\n",
      " |      itself, and the part after it.\n",
      " |      \n",
      " |      If the separator is not found, returns a 3-tuple containing the original string\n",
      " |      and two empty strings.\n",
      " |  \n",
      " |  replace(self, old, new, count=-1, /)\n",
      " |      Return a copy with all occurrences of substring old replaced by new.\n",
      " |      \n",
      " |        count\n",
      " |          Maximum number of occurrences to replace.\n",
      " |          -1 (the default value) means replace all occurrences.\n",
      " |      \n",
      " |      If the optional argument count is given, only the first count occurrences are\n",
      " |      replaced.\n",
      " |  \n",
      " |  rfind(...)\n",
      " |      S.rfind(sub[, start[, end]]) -> int\n",
      " |      \n",
      " |      Return the highest index in S where substring sub is found,\n",
      " |      such that sub is contained within S[start:end].  Optional\n",
      " |      arguments start and end are interpreted as in slice notation.\n",
      " |      \n",
      " |      Return -1 on failure.\n",
      " |  \n",
      " |  rindex(...)\n",
      " |      S.rindex(sub[, start[, end]]) -> int\n",
      " |      \n",
      " |      Return the highest index in S where substring sub is found,\n",
      " |      such that sub is contained within S[start:end].  Optional\n",
      " |      arguments start and end are interpreted as in slice notation.\n",
      " |      \n",
      " |      Raises ValueError when the substring is not found.\n",
      " |  \n",
      " |  rjust(self, width, fillchar=' ', /)\n",
      " |      Return a right-justified string of length width.\n",
      " |      \n",
      " |      Padding is done using the specified fill character (default is a space).\n",
      " |  \n",
      " |  rpartition(self, sep, /)\n",
      " |      Partition the string into three parts using the given separator.\n",
      " |      \n",
      " |      This will search for the separator in the string, starting at the end. If\n",
      " |      the separator is found, returns a 3-tuple containing the part before the\n",
      " |      separator, the separator itself, and the part after it.\n",
      " |      \n",
      " |      If the separator is not found, returns a 3-tuple containing two empty strings\n",
      " |      and the original string.\n",
      " |  \n",
      " |  rsplit(self, /, sep=None, maxsplit=-1)\n",
      " |      Return a list of the words in the string, using sep as the delimiter string.\n",
      " |      \n",
      " |        sep\n",
      " |          The delimiter according which to split the string.\n",
      " |          None (the default value) means split according to any whitespace,\n",
      " |          and discard empty strings from the result.\n",
      " |        maxsplit\n",
      " |          Maximum number of splits to do.\n",
      " |          -1 (the default value) means no limit.\n",
      " |      \n",
      " |      Splits are done starting at the end of the string and working to the front.\n",
      " |  \n",
      " |  rstrip(self, chars=None, /)\n",
      " |      Return a copy of the string with trailing whitespace removed.\n",
      " |      \n",
      " |      If chars is given and not None, remove characters in chars instead.\n",
      " |  \n",
      " |  split(self, /, sep=None, maxsplit=-1)\n",
      " |      Return a list of the words in the string, using sep as the delimiter string.\n",
      " |      \n",
      " |      sep\n",
      " |        The delimiter according which to split the string.\n",
      " |        None (the default value) means split according to any whitespace,\n",
      " |        and discard empty strings from the result.\n",
      " |      maxsplit\n",
      " |        Maximum number of splits to do.\n",
      " |        -1 (the default value) means no limit.\n",
      " |  \n",
      " |  splitlines(self, /, keepends=False)\n",
      " |      Return a list of the lines in the string, breaking at line boundaries.\n",
      " |      \n",
      " |      Line breaks are not included in the resulting list unless keepends is given and\n",
      " |      true.\n",
      " |  \n",
      " |  startswith(...)\n",
      " |      S.startswith(prefix[, start[, end]]) -> bool\n",
      " |      \n",
      " |      Return True if S starts with the specified prefix, False otherwise.\n",
      " |      With optional start, test S beginning at that position.\n",
      " |      With optional end, stop comparing S at that position.\n",
      " |      prefix can also be a tuple of strings to try.\n",
      " |  \n",
      " |  strip(self, chars=None, /)\n",
      " |      Return a copy of the string with leading and trailing whitespace removed.\n",
      " |      \n",
      " |      If chars is given and not None, remove characters in chars instead.\n",
      " |  \n",
      " |  swapcase(self, /)\n",
      " |      Convert uppercase characters to lowercase and lowercase characters to uppercase.\n",
      " |  \n",
      " |  title(self, /)\n",
      " |      Return a version of the string where each word is titlecased.\n",
      " |      \n",
      " |      More specifically, words start with uppercased characters and all remaining\n",
      " |      cased characters have lower case.\n",
      " |  \n",
      " |  translate(self, table, /)\n",
      " |      Replace each character in the string using the given translation table.\n",
      " |      \n",
      " |        table\n",
      " |          Translation table, which must be a mapping of Unicode ordinals to\n",
      " |          Unicode ordinals, strings, or None.\n",
      " |      \n",
      " |      The table must implement lookup/indexing via __getitem__, for instance a\n",
      " |      dictionary or list.  If this operation raises LookupError, the character is\n",
      " |      left untouched.  Characters mapped to None are deleted.\n",
      " |  \n",
      " |  upper(self, /)\n",
      " |      Return a copy of the string converted to uppercase.\n",
      " |  \n",
      " |  zfill(self, width, /)\n",
      " |      Pad a numeric string with zeros on the left, to fill a field of the given width.\n",
      " |      \n",
      " |      The string is never truncated.\n",
      " |  \n",
      " |  ----------------------------------------------------------------------\n",
      " |  Static methods defined here:\n",
      " |  \n",
      " |  __new__(*args, **kwargs) from builtins.type\n",
      " |      Create and return a new object.  See help(type) for accurate signature.\n",
      " |  \n",
      " |  maketrans(...)\n",
      " |      Return a translation table usable for str.translate().\n",
      " |      \n",
      " |      If there is only one argument, it must be a dictionary mapping Unicode\n",
      " |      ordinals (integers) or characters to Unicode ordinals, strings or None.\n",
      " |      Character keys will be then converted to ordinals.\n",
      " |      If there are two arguments, they must be strings of equal length, and\n",
      " |      in the resulting dictionary, each character in x will be mapped to the\n",
      " |      character at the same position in y. If there is a third argument, it\n",
      " |      must be a string, whose characters will be mapped to None in the result.\n",
      "\n"
     ]
    }
   ],
   "source": [
    "help(str)"
   ]
  },
  {
   "cell_type": "code",
   "execution_count": null,
   "id": "d2f5d378-7067-4aae-a400-513f6ca47f8a",
   "metadata": {},
   "outputs": [],
   "source": []
  },
  {
   "cell_type": "code",
   "execution_count": null,
   "id": "27d6070f-5db6-4011-bce6-28fad5c17df7",
   "metadata": {},
   "outputs": [],
   "source": []
  },
  {
   "cell_type": "code",
   "execution_count": null,
   "id": "03738fd1-f5f3-421f-9536-0ec1fd008e98",
   "metadata": {},
   "outputs": [],
   "source": []
  },
  {
   "cell_type": "code",
   "execution_count": null,
   "id": "c120975e-2c10-44a4-8833-09fe1d78af6c",
   "metadata": {},
   "outputs": [],
   "source": []
  },
  {
   "cell_type": "code",
   "execution_count": null,
   "id": "6b688a54-425a-49fe-a848-6372d837c38b",
   "metadata": {},
   "outputs": [],
   "source": []
  },
  {
   "cell_type": "code",
   "execution_count": null,
   "id": "e722fc93-cc9f-47c4-981e-1c29c35937cb",
   "metadata": {},
   "outputs": [],
   "source": []
  },
  {
   "cell_type": "code",
   "execution_count": null,
   "id": "45e05c7a-185c-4ed7-9416-0050a7689c5d",
   "metadata": {},
   "outputs": [],
   "source": []
  },
  {
   "cell_type": "code",
   "execution_count": null,
   "id": "979b1591-469d-463c-a7d7-55fb65fbdc95",
   "metadata": {},
   "outputs": [],
   "source": []
  },
  {
   "cell_type": "code",
   "execution_count": null,
   "id": "ac2822b7-0290-41e7-b241-e443802bf649",
   "metadata": {},
   "outputs": [],
   "source": []
  },
  {
   "cell_type": "code",
   "execution_count": null,
   "id": "dda6cb48-448d-4cb4-9f80-a489adf17a61",
   "metadata": {},
   "outputs": [],
   "source": []
  },
  {
   "cell_type": "code",
   "execution_count": null,
   "id": "5889a3a2-2352-4413-adfb-27647b0ee4d3",
   "metadata": {},
   "outputs": [],
   "source": []
  },
  {
   "cell_type": "code",
   "execution_count": null,
   "id": "3da0fd13-2c08-4771-ab63-4e697a8f2d70",
   "metadata": {},
   "outputs": [],
   "source": []
  }
 ],
 "metadata": {
  "kernelspec": {
   "display_name": "Python 3",
   "language": "python",
   "name": "python3"
  },
  "language_info": {
   "codemirror_mode": {
    "name": "ipython",
    "version": 3
   },
   "file_extension": ".py",
   "mimetype": "text/x-python",
   "name": "python",
   "nbconvert_exporter": "python",
   "pygments_lexer": "ipython3",
   "version": "3.8.8"
  }
 },
 "nbformat": 4,
 "nbformat_minor": 5
}
