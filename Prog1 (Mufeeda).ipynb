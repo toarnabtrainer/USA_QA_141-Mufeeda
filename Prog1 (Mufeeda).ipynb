{
 "cells": [
  {
   "cell_type": "code",
   "execution_count": null,
   "id": "99bffd21-222f-4768-84f5-bcdf8df35e8c",
   "metadata": {},
   "outputs": [],
   "source": [
    "# This is a comment line\n",
    "# This is another comment line\n",
    "# This is the last comment line\n",
    "print (\"Hello to All...\")"
   ]
  },
  {
   "cell_type": "markdown",
   "id": "4c0e8a28-3fca-43dc-95be-76af1c2dc196",
   "metadata": {},
   "source": [
    "<ul>\n",
    "    <li> Chapter - 1 </li>\n",
    "        <ol>\n",
    "            <li> Data Structure </li>\n",
    "            <li> Algorithm </li>\n",
    "            <li> Database </li>\n",
    "            <li> SQL </li>\n",
    "            <li> Complexity Analysis </li>\n",
    "        </ol>\n",
    "    <li> Chapter - 2 </li>\n",
    "</ul>\n",
    "<b> This is a BOLD text...</b><br>\n",
    "\n",
    "**This is a BOLD Text...**\n",
    "> This is a new section\n",
    "* Topic number - 1\n",
    "* Topic number - 2\n",
    "* Topic number - 3\n",
    "* Topic number - 4\n",
    "* Topic number - 5\n",
    "\n",
    "<h1> Heading - 1</h1>\n",
    "<h2> Heading - 2</h2>\n",
    "<h3> Heading - 3</h3>\n",
    "<h4> Heading - 4</h4>\n",
    "<h5> Heading - 5</h5>\n",
    "<h6> Heading - 6</h6>\n",
    "\n",
    "# Heading - 1\n",
    "## Heading - 2\n",
    "### Heading - 3\n",
    "#### Heading - 4\n",
    "##### Heading - 5\n",
    "###### Heading - 6"
   ]
  },
  {
   "cell_type": "code",
   "execution_count": 6,
   "id": "290922df-3a5b-4b8b-bb7d-cb95db152c5a",
   "metadata": {},
   "outputs": [
    {
     "name": "stdin",
     "output_type": "stream",
     "text": [
      "Please enter an integer:  100\n",
      "Please enter another integer:  300\n"
     ]
    },
    {
     "name": "stdout",
     "output_type": "stream",
     "text": [
      "100 <class 'str'> 300 <class 'str'>\n",
      "So the sum is 100300\n",
      "End of the program...\n"
     ]
    }
   ],
   "source": [
    "num1 = input(\"Please enter an integer: \")\n",
    "num2 = input(\"Please enter another integer: \")\n",
    "print (num1, type(num1), num2, type(num2))\n",
    "total = num1 + num2\n",
    "print (\"So the sum is\", total)\n",
    "print (\"End of the program...\")"
   ]
  },
  {
   "cell_type": "code",
   "execution_count": 7,
   "id": "5fff6dc1-7fb0-4ae9-9546-bcf1ffdc6c39",
   "metadata": {},
   "outputs": [
    {
     "name": "stdin",
     "output_type": "stream",
     "text": [
      "Please enter an integer:  100\n",
      "Please enter another integer:  300\n"
     ]
    },
    {
     "name": "stdout",
     "output_type": "stream",
     "text": [
      "100 <class 'int'> 300 <class 'int'>\n",
      "So the sum is 400\n",
      "End of the program...\n"
     ]
    }
   ],
   "source": [
    "num1 = int(input(\"Please enter an integer: \"))\n",
    "num2 = int(input(\"Please enter another integer: \"))\n",
    "print (num1, type(num1), num2, type(num2))\n",
    "total = num1 + num2\n",
    "print (\"So the sum is\", total)\n",
    "print (\"End of the program...\")"
   ]
  },
  {
   "cell_type": "code",
   "execution_count": null,
   "id": "392a8bf7-8bef-418f-b926-a08ada26e7c2",
   "metadata": {},
   "outputs": [],
   "source": []
  },
  {
   "cell_type": "code",
   "execution_count": null,
   "id": "a59bfe79-55c5-4333-888c-317d57813283",
   "metadata": {},
   "outputs": [],
   "source": []
  },
  {
   "cell_type": "code",
   "execution_count": null,
   "id": "e8377a82-2c3f-4d1b-8bd9-e7bd8891e6e0",
   "metadata": {},
   "outputs": [],
   "source": []
  },
  {
   "cell_type": "code",
   "execution_count": null,
   "id": "40ff13e0-95d0-4704-b210-7522f245554e",
   "metadata": {},
   "outputs": [],
   "source": []
  },
  {
   "cell_type": "code",
   "execution_count": null,
   "id": "b658b10a-9f4a-4e57-a5a7-15a4257d079b",
   "metadata": {},
   "outputs": [],
   "source": []
  },
  {
   "cell_type": "code",
   "execution_count": null,
   "id": "834ae042-460f-48d7-a40f-f9cc65fe3532",
   "metadata": {},
   "outputs": [],
   "source": []
  }
 ],
 "metadata": {
  "kernelspec": {
   "display_name": "Python 3",
   "language": "python",
   "name": "python3"
  },
  "language_info": {
   "codemirror_mode": {
    "name": "ipython",
    "version": 3
   },
   "file_extension": ".py",
   "mimetype": "text/x-python",
   "name": "python",
   "nbconvert_exporter": "python",
   "pygments_lexer": "ipython3",
   "version": "3.8.8"
  }
 },
 "nbformat": 4,
 "nbformat_minor": 5
}
