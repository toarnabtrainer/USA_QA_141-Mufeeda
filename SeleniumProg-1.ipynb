{
 "cells": [
  {
   "cell_type": "code",
   "execution_count": 1,
   "id": "3651b4e0-4454-4a70-818e-b449215ee030",
   "metadata": {},
   "outputs": [
    {
     "name": "stdout",
     "output_type": "stream",
     "text": [
      "4.1.3\n"
     ]
    }
   ],
   "source": [
    "# importing required modules\n",
    "from selenium import webdriver\n",
    "\n",
    "# check the version of selenium\n",
    "print (webdriver.__version__)"
   ]
  },
  {
   "cell_type": "code",
   "execution_count": 2,
   "id": "56581e17-4880-4497-8dac-788eba9176b5",
   "metadata": {},
   "outputs": [
    {
     "name": "stderr",
     "output_type": "stream",
     "text": [
      "<ipython-input-2-f800ba2fb9bb>:3: DeprecationWarning: executable_path has been deprecated, please pass in a Service object\n",
      "  driver = webdriver.Chrome(executable_path = './chromedriver.exe')\n"
     ]
    }
   ],
   "source": [
    "# please check chromedriver.exe is present in the same directory\n",
    "# otherwise we shall have to provide relative path\n",
    "driver = webdriver.Chrome(executable_path = './chromedriver.exe')"
   ]
  },
  {
   "cell_type": "code",
   "execution_count": 3,
   "id": "02616f8a-fd66-47f6-ae6a-d10b012ac72a",
   "metadata": {},
   "outputs": [],
   "source": [
    "# start wikipedia web page\n",
    "driver.get('https://en.wikipedia.org/wiki/Main_Page')"
   ]
  },
  {
   "cell_type": "code",
   "execution_count": 4,
   "id": "0de951aa-5f4d-4d3e-a5ec-57784f7f6c64",
   "metadata": {},
   "outputs": [],
   "source": [
    "# close all windows which are opened by the driver\n",
    "driver.quit()"
   ]
  },
  {
   "cell_type": "code",
   "execution_count": null,
   "id": "81e7787c-4336-42e9-9f63-ac4d3172e9f4",
   "metadata": {},
   "outputs": [],
   "source": []
  },
  {
   "cell_type": "code",
   "execution_count": null,
   "id": "ab8550a8-76b4-4185-93fd-677d0a48e070",
   "metadata": {},
   "outputs": [],
   "source": []
  },
  {
   "cell_type": "code",
   "execution_count": null,
   "id": "645830a4-1021-4ee2-a0ac-3e6bdb889fd6",
   "metadata": {},
   "outputs": [],
   "source": []
  }
 ],
 "metadata": {
  "kernelspec": {
   "display_name": "Python 3",
   "language": "python",
   "name": "python3"
  },
  "language_info": {
   "codemirror_mode": {
    "name": "ipython",
    "version": 3
   },
   "file_extension": ".py",
   "mimetype": "text/x-python",
   "name": "python",
   "nbconvert_exporter": "python",
   "pygments_lexer": "ipython3",
   "version": "3.8.8"
  }
 },
 "nbformat": 4,
 "nbformat_minor": 5
}
